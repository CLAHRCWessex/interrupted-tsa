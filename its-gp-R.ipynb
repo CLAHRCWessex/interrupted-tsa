{
 "cells": [
  {
   "cell_type": "markdown",
   "metadata": {},
   "source": [
    "# Interrupted Time Series Analysis - Time Series with control (in R)"
   ]
  },
  {
   "cell_type": "code",
   "execution_count": 1,
   "metadata": {},
   "outputs": [
    {
     "name": "stderr",
     "output_type": "stream",
     "text": [
      "Warning message:\n",
      "\"package 'tseries' was built under R version 3.4.4\"Warning message in packageDescription(\"tseries\", lib.loc = mylib):\n",
      "\"no package 'tseries' was found\"Loading required package: zoo\n",
      "Warning message:\n",
      "\"package 'zoo' was built under R version 3.4.4\"\n",
      "Attaching package: 'zoo'\n",
      "\n",
      "The following objects are masked from 'package:base':\n",
      "\n",
      "    as.Date, as.Date.numeric\n",
      "\n",
      "Warning message:\n",
      "\"package 'LSTS' was built under R version 3.4.4\""
     ]
    }
   ],
   "source": [
    "library(nlme)\n",
    "library(car)\n",
    "library(tseries)\n",
    "library(ggplot2)\n",
    "library(lmtest)\n",
    "library(LSTS)\n",
    "library(data.table)"
   ]
  },
  {
   "cell_type": "code",
   "execution_count": 83,
   "metadata": {},
   "outputs": [
    {
     "data": {
      "text/html": [
       "74"
      ],
      "text/latex": [
       "74"
      ],
      "text/markdown": [
       "74"
      ],
      "text/plain": [
       "[1] 74"
      ]
     },
     "metadata": {},
     "output_type": "display_data"
    }
   ],
   "source": [
    "data <- read.csv(file=\"data/gp.csv\", header=TRUE, sep=\",\")\n",
    "nrow(data) # expecting 74 weeks"
   ]
  },
  {
   "cell_type": "code",
   "execution_count": 99,
   "metadata": {
    "collapsed": true
   },
   "outputs": [],
   "source": [
    "data$diff <- data$rate_attend_control - data$rate_attend_pilot"
   ]
  },
  {
   "cell_type": "markdown",
   "metadata": {},
   "source": [
    "## Plot data"
   ]
  },
  {
   "cell_type": "code",
   "execution_count": 90,
   "metadata": {},
   "outputs": [
    {
     "data": {
      "text/html": [
       "<table>\n",
       "<thead><tr><th scope=col>year</th><th scope=col>week</th><th scope=col>rate_attend_control</th><th scope=col>rate_attend_pilot</th><th scope=col>time</th><th scope=col>wknd</th><th scope=col>wknd_trend</th><th scope=col>end</th><th scope=col>end_trend</th><th scope=col>outlier</th><th scope=col>diff</th></tr></thead>\n",
       "<tbody>\n",
       "\t<tr><td>2014    </td><td>14      </td><td>2.119278</td><td>4.872701</td><td>1       </td><td>0       </td><td>0       </td><td>0       </td><td>0       </td><td>0       </td><td>2.753423</td></tr>\n",
       "\t<tr><td>2014    </td><td>15      </td><td>3.490575</td><td>4.872701</td><td>2       </td><td>0       </td><td>0       </td><td>0       </td><td>0       </td><td>0       </td><td>1.382125</td></tr>\n",
       "\t<tr><td>2014    </td><td>16      </td><td>3.989229</td><td>6.395420</td><td>3       </td><td>0       </td><td>0       </td><td>0       </td><td>0       </td><td>0       </td><td>2.406191</td></tr>\n",
       "\t<tr><td>2014    </td><td>17      </td><td>2.368605</td><td>4.568157</td><td>4       </td><td>0       </td><td>0       </td><td>0       </td><td>0       </td><td>0       </td><td>2.199552</td></tr>\n",
       "\t<tr><td>2014    </td><td>18      </td><td>3.241249</td><td>7.004507</td><td>5       </td><td>0       </td><td>0       </td><td>0       </td><td>0       </td><td>0       </td><td>3.763259</td></tr>\n",
       "\t<tr><td>2014    </td><td>19      </td><td>2.867258</td><td>6.090876</td><td>6       </td><td>0       </td><td>0       </td><td>0       </td><td>0       </td><td>0       </td><td>3.223617</td></tr>\n",
       "</tbody>\n",
       "</table>\n"
      ],
      "text/latex": [
       "\\begin{tabular}{r|lllllllllll}\n",
       " year & week & rate\\_attend\\_control & rate\\_attend\\_pilot & time & wknd & wknd\\_trend & end & end\\_trend & outlier & diff\\\\\n",
       "\\hline\n",
       "\t 2014     & 14       & 2.119278 & 4.872701 & 1        & 0        & 0        & 0        & 0        & 0        & 2.753423\\\\\n",
       "\t 2014     & 15       & 3.490575 & 4.872701 & 2        & 0        & 0        & 0        & 0        & 0        & 1.382125\\\\\n",
       "\t 2014     & 16       & 3.989229 & 6.395420 & 3        & 0        & 0        & 0        & 0        & 0        & 2.406191\\\\\n",
       "\t 2014     & 17       & 2.368605 & 4.568157 & 4        & 0        & 0        & 0        & 0        & 0        & 2.199552\\\\\n",
       "\t 2014     & 18       & 3.241249 & 7.004507 & 5        & 0        & 0        & 0        & 0        & 0        & 3.763259\\\\\n",
       "\t 2014     & 19       & 2.867258 & 6.090876 & 6        & 0        & 0        & 0        & 0        & 0        & 3.223617\\\\\n",
       "\\end{tabular}\n"
      ],
      "text/markdown": [
       "\n",
       "year | week | rate_attend_control | rate_attend_pilot | time | wknd | wknd_trend | end | end_trend | outlier | diff | \n",
       "|---|---|---|---|---|---|\n",
       "| 2014     | 14       | 2.119278 | 4.872701 | 1        | 0        | 0        | 0        | 0        | 0        | 2.753423 | \n",
       "| 2014     | 15       | 3.490575 | 4.872701 | 2        | 0        | 0        | 0        | 0        | 0        | 1.382125 | \n",
       "| 2014     | 16       | 3.989229 | 6.395420 | 3        | 0        | 0        | 0        | 0        | 0        | 2.406191 | \n",
       "| 2014     | 17       | 2.368605 | 4.568157 | 4        | 0        | 0        | 0        | 0        | 0        | 2.199552 | \n",
       "| 2014     | 18       | 3.241249 | 7.004507 | 5        | 0        | 0        | 0        | 0        | 0        | 3.763259 | \n",
       "| 2014     | 19       | 2.867258 | 6.090876 | 6        | 0        | 0        | 0        | 0        | 0        | 3.223617 | \n",
       "\n",
       "\n"
      ],
      "text/plain": [
       "  year week rate_attend_control rate_attend_pilot time wknd wknd_trend end\n",
       "1 2014 14   2.119278            4.872701          1    0    0          0  \n",
       "2 2014 15   3.490575            4.872701          2    0    0          0  \n",
       "3 2014 16   3.989229            6.395420          3    0    0          0  \n",
       "4 2014 17   2.368605            4.568157          4    0    0          0  \n",
       "5 2014 18   3.241249            7.004507          5    0    0          0  \n",
       "6 2014 19   2.867258            6.090876          6    0    0          0  \n",
       "  end_trend outlier diff    \n",
       "1 0         0       2.753423\n",
       "2 0         0       1.382125\n",
       "3 0         0       2.406191\n",
       "4 0         0       2.199552\n",
       "5 0         0       3.763259\n",
       "6 0         0       3.223617"
      ]
     },
     "metadata": {},
     "output_type": "display_data"
    }
   ],
   "source": [
    "head(data)"
   ]
  },
  {
   "cell_type": "markdown",
   "metadata": {},
   "source": [
    "## 1. Visual Impact Analysis of Interruptions"
   ]
  },
  {
   "cell_type": "code",
   "execution_count": 85,
   "metadata": {},
   "outputs": [
    {
     "data": {
      "image/png": "[encoded data removed]",
      "text/plain": [
       "plot without title"
      ]
     },
     "metadata": {},
     "output_type": "display_data"
    }
   ],
   "source": [
    "plot(data$time[1:74],data$rate_attend_pilot[1:74],\n",
    "     ylab=\"ED attendences per 10k registered population\",\n",
    "     ylim=c(0,10),\n",
    "     xlab=\"Week of year\",\n",
    "     type=\"l\",\n",
    "     col=\"blue\",\n",
    "     xaxt=\"n\")\n",
    "\n",
    "#Weekend working\n",
    "points(data$time[37:61],data$rate_attend_pilot[37:61],\n",
    "       type='l',\n",
    "       col=\"dark green\")\n",
    "\n",
    "#Weekend working ended\n",
    "points(data$time[62:74],data$rate_attend_pilot[62:74],\n",
    "       type='l',\n",
    "       col=\"red\")\n",
    "\n",
    "\n",
    "\n",
    "axis(1, at=1:74, labels=data$time[1:74])\n",
    "\n",
    "# Add in the points for the figure\n",
    "points(data$time[1:36],data$rate_attend_pilot[1:36],\n",
    "       col=\"blue\",\n",
    "       pch=20)\n",
    "\n",
    "points(data$time[37:61],data$rate_attend_pilot[37:61],\n",
    "       col=\"dark green\",\n",
    "       pch=20)\n",
    "\n",
    "points(data$time[62:74],data$rate_attend_pilot[62:74],\n",
    "       col=\"red\",\n",
    "       pch=20)\n",
    "\n",
    "\n",
    "# Interruption 1.  GPs begin to work Friday evenings and Saturdays\n",
    "abline(v=36.5,lty=2, lwd = 2)\n",
    "\n",
    "# Interruption 2.  GPs stop working Friday evenings and Saturdays\n",
    "abline(v=61.5, lty=2, lwd = 2)\n",
    "\n",
    "# Add in a legend\n",
    "legend(x=2, y=2, legend=c(\"No weekend working\",\"GPs work Fri evening and Sat\", \"Winter pressure funding ends\"),\n",
    "       col=c(\"blue\",\"dark green\", \"red\"),pch=20, cex=0.6, pt.cex = 1)\n"
   ]
  },
  {
   "cell_type": "code",
   "execution_count": 93,
   "metadata": {},
   "outputs": [
    {
     "data": {
      "image/png": "[encoded data removed]",
      "text/plain": [
       "plot without title"
      ]
     },
     "metadata": {},
     "output_type": "display_data"
    }
   ],
   "source": [
    "plot(data$time[1:74],data$diff[1:74],\n",
    "     ylab=\"ED attendences per 10k registered population\",\n",
    "     ylim=c(-1,10),\n",
    "     xlab=\"Week of year\",\n",
    "     type=\"l\",\n",
    "     col=\"blue\",\n",
    "     xaxt=\"n\")\n",
    "\n",
    "#Weekend working\n",
    "points(data$time[37:61],data$diff[37:61],\n",
    "       type='l',\n",
    "       col=\"dark green\")\n",
    "\n",
    "#Weekend working ended\n",
    "points(data$time[62:74],data$diff[62:74],\n",
    "       type='l',\n",
    "       col=\"red\")\n",
    "\n",
    "\n",
    "\n",
    "axis(1, at=1:74, labels=data$time[1:74])\n",
    "\n",
    "# Add in the points for the figure\n",
    "points(data$time[1:36],data$diff[1:36],\n",
    "       col=\"blue\",\n",
    "       pch=20)\n",
    "\n",
    "points(data$time[37:61],data$diff[37:61],\n",
    "       col=\"dark green\",\n",
    "       pch=20)\n",
    "\n",
    "points(data$time[62:74],data$diff[62:74],\n",
    "       col=\"red\",\n",
    "       pch=20)\n",
    "\n",
    "\n",
    "# Interruption 1.  GPs begin to work Friday evenings and Saturdays\n",
    "abline(v=36.5,lty=2, lwd = 2)\n",
    "\n",
    "# Interruption 2.  GPs stop working Friday evenings and Saturdays\n",
    "abline(v=61.5, lty=2, lwd = 2)\n",
    "\n",
    "# Add in a legend\n",
    "legend(x=2, y=2, legend=c(\"No weekend working\",\"GPs work Fri evening and Sat\", \"Winter pressure funding ends\"),\n",
    "       col=c(\"blue\",\"dark green\", \"red\"),pch=20, cex=0.6, pt.cex = 1)\n"
   ]
  },
  {
   "cell_type": "markdown",
   "metadata": {},
   "source": [
    "## 2. ITS - Linear Regression using Generalised Least Squares"
   ]
  },
  {
   "cell_type": "code",
   "execution_count": 86,
   "metadata": {},
   "outputs": [
    {
     "data": {
      "text/plain": [
       "\n",
       "Call:\n",
       "lm(formula = rate_attend_pilot ~ time + wknd + wknd_trend + end + \n",
       "    end_trend + outlier, data = data)\n",
       "\n",
       "Residuals:\n",
       "    Min      1Q  Median      3Q     Max \n",
       "-2.1699 -0.9173  0.0137  0.8807  3.3478 \n",
       "\n",
       "Coefficients:\n",
       "              Estimate Std. Error t value Pr(>|t|)    \n",
       "(Intercept)  5.4290689  0.4345067  12.495   <2e-16 ***\n",
       "time        -0.0226915  0.0210519  -1.078   0.2850    \n",
       "wknd         0.6466904  0.6668496   0.970   0.3356    \n",
       "wknd_trend   0.0008824  0.0393546   0.022   0.9822    \n",
       "end          0.0879002  0.8818628   0.100   0.9209    \n",
       "end_trend    0.0619687  0.0989890   0.626   0.5334    \n",
       "outlier     -3.8889092  1.2967745  -2.999   0.0038 ** \n",
       "---\n",
       "Signif. codes:  0 '***' 0.001 '**' 0.01 '*' 0.05 '.' 0.1 ' ' 1\n",
       "\n",
       "Residual standard error: 1.258 on 67 degrees of freedom\n",
       "Multiple R-squared:  0.1392,\tAdjusted R-squared:  0.06217 \n",
       "F-statistic: 1.807 on 6 and 67 DF,  p-value: 0.111\n"
      ]
     },
     "metadata": {},
     "output_type": "display_data"
    }
   ],
   "source": [
    "# A preliminary OLS regression\n",
    "model_ols <- lm(rate_attend_pilot ~ time + wknd + wknd_trend + end + end_trend + outlier, data=data)\n",
    "summary(model_ols)"
   ]
  },
  {
   "cell_type": "code",
   "execution_count": 95,
   "metadata": {},
   "outputs": [
    {
     "data": {
      "text/plain": [
       "\n",
       "Call:\n",
       "lm(formula = rate_attend_pilot ~ time + wknd + wknd_trend + end + \n",
       "    end_trend + outlier, data = data)\n",
       "\n",
       "Residuals:\n",
       "    Min      1Q  Median      3Q     Max \n",
       "-2.1699 -0.9173  0.0137  0.8807  3.3478 \n",
       "\n",
       "Coefficients:\n",
       "              Estimate Std. Error t value Pr(>|t|)    \n",
       "(Intercept)  5.4290689  0.4345067  12.495   <2e-16 ***\n",
       "time        -0.0226915  0.0210519  -1.078   0.2850    \n",
       "wknd         0.6466904  0.6668496   0.970   0.3356    \n",
       "wknd_trend   0.0008824  0.0393546   0.022   0.9822    \n",
       "end          0.0879002  0.8818628   0.100   0.9209    \n",
       "end_trend    0.0619687  0.0989890   0.626   0.5334    \n",
       "outlier     -3.8889092  1.2967745  -2.999   0.0038 ** \n",
       "---\n",
       "Signif. codes:  0 '***' 0.001 '**' 0.01 '*' 0.05 '.' 0.1 ' ' 1\n",
       "\n",
       "Residual standard error: 1.258 on 67 degrees of freedom\n",
       "Multiple R-squared:  0.1392,\tAdjusted R-squared:  0.06217 \n",
       "F-statistic: 1.807 on 6 and 67 DF,  p-value: 0.111\n"
      ]
     },
     "metadata": {},
     "output_type": "display_data"
    }
   ],
   "source": [
    "# A preliminary OLS regression\n",
    "model_ols2 <- lm(diff ~ time + wknd + wknd_trend + end + end_trend, data=data)\n",
    "summary(model_ols)"
   ]
  },
  {
   "cell_type": "code",
   "execution_count": 96,
   "metadata": {},
   "outputs": [
    {
     "data": {
      "image/png": "[encoded data removed]",
      "text/plain": [
       "Plot with title \"Series  residuals(model_ols2)\""
      ]
     },
     "metadata": {},
     "output_type": "display_data"
    }
   ],
   "source": [
    "# Plot ACF and PACF\n",
    "# Set plotting to two records on one page\n",
    "par(mfrow=c(2,1))\n",
    "\n",
    "# Produce plots\n",
    "acf(residuals(model_ols2))\n",
    "acf(residuals(model_ols2),type='partial')"
   ]
  },
  {
   "cell_type": "code",
   "execution_count": 87,
   "metadata": {},
   "outputs": [
    {
     "data": {
      "text/plain": [
       "Generalized least squares fit by maximum likelihood\n",
       "  Model: rate_attend_pilot ~ time + wknd + wknd_trend + end + end_trend +      outlier \n",
       "  Data: data \n",
       "       AIC      BIC    logLik\n",
       "  262.2706 303.7437 -113.1353\n",
       "\n",
       "Correlation Structure: ARMA(10,0)\n",
       " Formula: ~time \n",
       " Parameter estimate(s):\n",
       "         Phi1          Phi2          Phi3          Phi4          Phi5 \n",
       "-0.0525905344  0.0008707507  0.1228677898 -0.0618163089  0.0973624027 \n",
       "         Phi6          Phi7          Phi8          Phi9         Phi10 \n",
       " 0.0818681816  0.0706867950  0.0110349268 -0.1387962446 -0.2988329394 \n",
       "\n",
       "Coefficients:\n",
       "                Value Std.Error   t-value p-value\n",
       "(Intercept)  5.464825 0.4043778 13.514157  0.0000\n",
       "time        -0.026013 0.0199780 -1.302078  0.1973\n",
       "wknd         0.791760 0.6429434  1.231462  0.2225\n",
       "wknd_trend   0.001843 0.0370197  0.049784  0.9604\n",
       "end         -0.217580 0.8509314 -0.255696  0.7990\n",
       "end_trend    0.100424 0.1038533  0.966981  0.3370\n",
       "outlier     -4.061614 1.1037648 -3.679782  0.0005\n",
       "\n",
       " Correlation: \n",
       "           (Intr) time   wknd   wknd_t end    end_tr\n",
       "time       -0.896                                   \n",
       "wknd        0.366 -0.575                            \n",
       "wknd_trend  0.469 -0.499 -0.309                     \n",
       "end        -0.001 -0.004  0.200 -0.372              \n",
       "end_trend   0.007 -0.019  0.289 -0.346 -0.515       \n",
       "outlier     0.063 -0.098  0.014  0.059  0.038 -0.002\n",
       "\n",
       "Standardized residuals:\n",
       "        Min          Q1         Med          Q3         Max \n",
       "-1.83527335 -0.74198323  0.03938421  0.74594321  2.80059961 \n",
       "\n",
       "Residual standard error: 1.195652 \n",
       "Degrees of freedom: 74 total; 67 residual"
      ]
     },
     "metadata": {},
     "output_type": "display_data"
    },
    {
     "data": {
      "text/html": [
       "<table>\n",
       "<thead><tr><th></th><th scope=col>2.5 %</th><th scope=col>97.5 %</th></tr></thead>\n",
       "<tbody>\n",
       "\t<tr><th scope=row>(Intercept)</th><td> 4.67225934</td><td> 6.25739123</td></tr>\n",
       "\t<tr><th scope=row>time</th><td>-0.06516916</td><td> 0.01314327</td></tr>\n",
       "\t<tr><th scope=row>wknd</th><td>-0.46838576</td><td> 2.05190587</td></tr>\n",
       "\t<tr><th scope=row>wknd_trend</th><td>-0.07071431</td><td> 0.07440028</td></tr>\n",
       "\t<tr><th scope=row>end</th><td>-1.88537444</td><td> 1.45021539</td></tr>\n",
       "\t<tr><th scope=row>end_trend</th><td>-0.10312456</td><td> 0.30397306</td></tr>\n",
       "\t<tr><th scope=row>outlier</th><td>-6.22495320</td><td>-1.89827481</td></tr>\n",
       "</tbody>\n",
       "</table>\n"
      ],
      "text/latex": [
       "\\begin{tabular}{r|ll}\n",
       "  & 2.5 \\% & 97.5 \\%\\\\\n",
       "\\hline\n",
       "\t(Intercept) &  4.67225934 &  6.25739123\\\\\n",
       "\ttime & -0.06516916 &  0.01314327\\\\\n",
       "\twknd & -0.46838576 &  2.05190587\\\\\n",
       "\twknd\\_trend & -0.07071431 &  0.07440028\\\\\n",
       "\tend & -1.88537444 &  1.45021539\\\\\n",
       "\tend\\_trend & -0.10312456 &  0.30397306\\\\\n",
       "\toutlier & -6.22495320 & -1.89827481\\\\\n",
       "\\end{tabular}\n"
      ],
      "text/markdown": [
       "\n",
       "| <!--/--> | 2.5 % | 97.5 % | \n",
       "|---|---|---|---|---|---|---|\n",
       "| (Intercept) |  4.67225934 |  6.25739123 | \n",
       "| time | -0.06516916 |  0.01314327 | \n",
       "| wknd | -0.46838576 |  2.05190587 | \n",
       "| wknd_trend | -0.07071431 |  0.07440028 | \n",
       "| end | -1.88537444 |  1.45021539 | \n",
       "| end_trend | -0.10312456 |  0.30397306 | \n",
       "| outlier | -6.22495320 | -1.89827481 | \n",
       "\n",
       "\n"
      ],
      "text/plain": [
       "            2.5 %       97.5 %     \n",
       "(Intercept)  4.67225934  6.25739123\n",
       "time        -0.06516916  0.01314327\n",
       "wknd        -0.46838576  2.05190587\n",
       "wknd_trend  -0.07071431  0.07440028\n",
       "end         -1.88537444  1.45021539\n",
       "end_trend   -0.10312456  0.30397306\n",
       "outlier     -6.22495320 -1.89827481"
      ]
     },
     "metadata": {},
     "output_type": "display_data"
    }
   ],
   "source": [
    "# Fit the GLS regression model\n",
    "gls_m1<- gls(rate_attend_pilot ~ time + wknd + wknd_trend + end + end_trend + outlier,\n",
    "  data=data,\n",
    "  correlation=corARMA(p=10,form=~time),\n",
    "  method=\"ML\")\n",
    "summary(gls_m1)\n",
    "confint(gls_m1)"
   ]
  },
  {
   "cell_type": "code",
   "execution_count": 59,
   "metadata": {
    "collapsed": true
   },
   "outputs": [],
   "source": []
  },
  {
   "cell_type": "code",
   "execution_count": 88,
   "metadata": {},
   "outputs": [
    {
     "data": {
      "image/png": "[encoded data removed]",
      "text/plain": [
       "plot without title"
      ]
     },
     "metadata": {},
     "output_type": "display_data"
    }
   ],
   "source": [
    "model_final = gls_m1\n",
    "# Produce the plot, first plotting the raw data points\n",
    "plot(data$time,data$rate_attend_pilot,\n",
    "     ylim=c(0,8),\n",
    "     ylab=\"Attendences (per 10k pop)\",\n",
    "     xlab=\"Week\",\n",
    "     pch=20,\n",
    "     col=\"pink\",\n",
    "     xaxt=\"n\")\n",
    "\n",
    "# Add x axis with dates\n",
    "#axis(1, at=1:35, labels=data$year)\n",
    "\n",
    "# Interruption 1.  GPs begin to work Friday evenings and Saturdays\n",
    "abline(v=35.5,lty=2, lwd = 2)\n",
    "\n",
    "# Interruption 2.  GPs stop working Friday evenings and Saturdays\n",
    "abline(v=61.5, lty=2, lwd = 2)\n",
    "\n",
    "# The before line\n",
    "lines(data$time[1:35], fitted(model_final)[1:35], col=\"red\",lwd=2)\n",
    "\n",
    "# The during line\n",
    "lines(data$time[36:61], fitted(model_final)[36:61], col=\"red\",lwd=2)\n",
    "\n",
    "#The after line\n",
    "lines(data$time[62:74], fitted(model_final)[62:74], col=\"red\",lwd=2)\n",
    "\n",
    "axis(1, at=1:74, labels=data$time[1:74])\n",
    "\n",
    "#Line representing counterfactual to ED implementation\n",
    "segments(36, model_final$coef[1]+model_final$coef[2]*36,\n",
    "         61, model_final$coef[1]+model_final$coef[2]*61,\n",
    "         lty=2, lwd=2, col='red')\n",
    "\n",
    "# Line representing counterfactual to the ambulance implementation\n",
    "#segments(41, model_final$coef[1] + model_final$coef[2]*41 +\n",
    "#           model_final$coef[3] + model_final$coef[4]*15,\n",
    "#         54, model_final$coef[1] + model_final$coef[2]*54 +\n",
    "#           model_final$coef[3] + model_final$coef[4]*30,\n",
    "#         lty=2, lwd=2, col='red')\n"
   ]
  },
  {
   "cell_type": "code",
   "execution_count": 100,
   "metadata": {},
   "outputs": [
    {
     "data": {
      "text/plain": [
       "Generalized least squares fit by maximum likelihood\n",
       "  Model: diff ~ time + wknd + wknd_trend + end + end_trend \n",
       "  Data: data \n",
       "       AIC      BIC    logLik\n",
       "  278.2051 317.3742 -122.1025\n",
       "\n",
       "Correlation Structure: ARMA(10,0)\n",
       " Formula: ~time \n",
       " Parameter estimate(s):\n",
       "       Phi1        Phi2        Phi3        Phi4        Phi5        Phi6 \n",
       "-0.03945704 -0.09602922 -0.01648434 -0.19217391  0.20508870 -0.11042961 \n",
       "       Phi7        Phi8        Phi9       Phi10 \n",
       "-0.06270450  0.02650446  0.07557889 -0.28425415 \n",
       "\n",
       "Coefficients:\n",
       "                 Value Std.Error   t-value p-value\n",
       "(Intercept) -2.2302777 0.3513880 -6.347052  0.0000\n",
       "time         0.0037478 0.0174113  0.215252  0.8302\n",
       "wknd         0.1062995 0.5850777  0.181684  0.8564\n",
       "wknd_trend   0.0008216 0.0318427  0.025801  0.9795\n",
       "end          0.5095128 0.8839529  0.576403  0.5662\n",
       "end_trend   -0.0944621 0.0964745 -0.979141  0.3310\n",
       "\n",
       " Correlation: \n",
       "           (Intr) time   wknd   wknd_t end   \n",
       "time       -0.895                            \n",
       "wknd        0.391 -0.605                     \n",
       "wknd_trend  0.431 -0.446 -0.333              \n",
       "end         0.018 -0.032  0.267 -0.449       \n",
       "end_trend   0.018 -0.031  0.188 -0.178 -0.625\n",
       "\n",
       "Standardized residuals:\n",
       "       Min         Q1        Med         Q3        Max \n",
       "-2.5191522 -0.6097255 -0.1593960  0.7795432  2.2674251 \n",
       "\n",
       "Residual standard error: 1.370135 \n",
       "Degrees of freedom: 74 total; 68 residual"
      ]
     },
     "metadata": {},
     "output_type": "display_data"
    }
   ],
   "source": [
    "# Fit the GLS regression model\n",
    "gls_m2<- gls(diff ~ time + wknd + wknd_trend + end + end_trend,\n",
    "  data=data,\n",
    "  correlation=corARMA(p=10,form=~time),\n",
    "  method=\"ML\")\n",
    "summary(gls_m2)\n"
   ]
  },
  {
   "cell_type": "code",
   "execution_count": 102,
   "metadata": {},
   "outputs": [
    {
     "data": {
      "image/png": "[encoded data removed]",
      "text/plain": [
       "plot without title"
      ]
     },
     "metadata": {},
     "output_type": "display_data"
    }
   ],
   "source": [
    "model_final = gls_m2\n",
    "# Produce the plot, first plotting the raw data points\n",
    "plot(data$time,data$diff,\n",
    "     ylim=c(-8,1),\n",
    "     ylab=\"Attendences (per 10k pop)\",\n",
    "     xlab=\"Week\",\n",
    "     pch=20,\n",
    "     col=\"pink\",\n",
    "     xaxt=\"n\")\n",
    "\n",
    "# Add x axis with dates\n",
    "#axis(1, at=1:35, labels=data$year)\n",
    "\n",
    "# Interruption 1.  GPs begin to work Friday evenings and Saturdays\n",
    "abline(v=35.5,lty=2, lwd = 2)\n",
    "\n",
    "# Interruption 2.  GPs stop working Friday evenings and Saturdays\n",
    "abline(v=61.5, lty=2, lwd = 2)\n",
    "\n",
    "# The before line\n",
    "lines(data$time[1:35], fitted(model_final)[1:35], col=\"red\",lwd=2)\n",
    "\n",
    "# The during line\n",
    "lines(data$time[36:61], fitted(model_final)[36:61], col=\"red\",lwd=2)\n",
    "\n",
    "#The after line\n",
    "lines(data$time[62:74], fitted(model_final)[62:74], col=\"red\",lwd=2)\n",
    "\n",
    "axis(1, at=1:74, labels=data$time[1:74])\n",
    "\n",
    "#Line representing counterfactual to ED implementation\n",
    "segments(36, model_final$coef[1]+model_final$coef[2]*36,\n",
    "         61, model_final$coef[1]+model_final$coef[2]*61,\n",
    "         lty=2, lwd=2, col='red')\n",
    "\n",
    "# Line representing counterfactual to the ambulance implementation\n",
    "#segments(41, model_final$coef[1] + model_final$coef[2]*41 +\n",
    "#           model_final$coef[3] + model_final$coef[4]*15,\n",
    "#         54, model_final$coef[1] + model_final$coef[2]*54 +\n",
    "#           model_final$coef[3] + model_final$coef[4]*30,\n",
    "#         lty=2, lwd=2, col='red')\n"
   ]
  },
  {
   "cell_type": "code",
   "execution_count": null,
   "metadata": {
    "collapsed": true
   },
   "outputs": [],
   "source": []
  }
 ],
 "metadata": {
  "kernelspec": {
   "display_name": "R",
   "language": "R",
   "name": "ir"
  },
  "language_info": {
   "codemirror_mode": "r",
   "file_extension": ".r",
   "mimetype": "text/x-r-source",
   "name": "R",
   "pygments_lexer": "r",
   "version": "3.4.3"
  }
 },
 "nbformat": 4,
 "nbformat_minor": 2
}
