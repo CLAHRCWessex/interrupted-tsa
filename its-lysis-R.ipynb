{
 "cells": [
  {
   "cell_type": "markdown",
   "metadata": {},
   "source": [
    "# Interrupted Time Series Analysis - Single Time Series Example (in R)"
   ]
  },
  {
   "cell_type": "markdown",
   "metadata": {},
   "source": [
    "Import libraries need for ITS in R."
   ]
  },
  {
   "cell_type": "code",
   "execution_count": 11,
   "metadata": {},
   "outputs": [
    {
     "name": "stderr",
     "output_type": "stream",
     "text": [
      "Warning message:\n",
      "\"package 'tseries' was built under R version 3.4.4\"Warning message in packageDescription(\"tseries\", lib.loc = mylib):\n",
      "\"no package 'tseries' was found\"Loading required package: zoo\n",
      "Warning message:\n",
      "\"package 'zoo' was built under R version 3.4.4\"\n",
      "Attaching package: 'zoo'\n",
      "\n",
      "The following objects are masked from 'package:base':\n",
      "\n",
      "    as.Date, as.Date.numeric\n",
      "\n",
      "Warning message:\n",
      "\"package 'LSTS' was built under R version 3.4.4\""
     ]
    }
   ],
   "source": [
    "library(nlme)\n",
    "library(car)\n",
    "library(tseries)\n",
    "library(ggplot2)\n",
    "library(lmtest)\n",
    "library(LSTS)\n",
    "library(data.table)\n",
    "\n"
   ]
  },
  {
   "cell_type": "code",
   "execution_count": 1,
   "metadata": {
    "collapsed": true
   },
   "outputs": [],
   "source": [
    "data <- read.csv(file=\"data/lysis.csv\", header=TRUE, sep=\",\")"
   ]
  },
  {
   "cell_type": "code",
   "execution_count": 2,
   "metadata": {},
   "outputs": [
    {
     "data": {
      "text/html": [
       "54"
      ],
      "text/latex": [
       "54"
      ],
      "text/markdown": [
       "54"
      ],
      "text/plain": [
       "[1] 54"
      ]
     },
     "metadata": {},
     "output_type": "display_data"
    }
   ],
   "source": [
    "nrow(data)  # expecting 54 data points"
   ]
  },
  {
   "cell_type": "markdown",
   "metadata": {},
   "source": [
    "## Plot data"
   ]
  },
  {
   "cell_type": "code",
   "execution_count": 73,
   "metadata": {},
   "outputs": [
    {
     "data": {
      "image/png": "[encoded data removed]",
      "text/plain": [
       "plot without title"
      ]
     },
     "metadata": {},
     "output_type": "display_data"
    }
   ],
   "source": [
    "plot(ts(data$per_treated2))"
   ]
  },
  {
   "cell_type": "markdown",
   "metadata": {},
   "source": [
    "Deal with increasing variance - Take natural log of DV"
   ]
  },
  {
   "cell_type": "code",
   "execution_count": 3,
   "metadata": {
    "collapsed": true
   },
   "outputs": [],
   "source": [
    "data$per_treated = log(data$per_treated2)"
   ]
  },
  {
   "cell_type": "code",
   "execution_count": 4,
   "metadata": {},
   "outputs": [
    {
     "data": {
      "text/html": [
       "<table>\n",
       "<thead><tr><th scope=col>year</th><th scope=col>month</th><th scope=col>per_treated</th><th scope=col>time</th><th scope=col>or</th><th scope=col>or_trend</th><th scope=col>imp</th><th scope=col>imp_trend</th><th scope=col>per_treated2</th><th scope=col>lag1_treat_ln</th></tr></thead>\n",
       "<tbody>\n",
       "\t<tr><td>2009      </td><td> 1        </td><td>-3.970292 </td><td> 1        </td><td>0         </td><td> 0        </td><td>0         </td><td> 0        </td><td>0.01886793</td><td> 0.000000 </td></tr>\n",
       "\t<tr><td>2009      </td><td> 2        </td><td>-3.496508 </td><td> 2        </td><td>0         </td><td> 0        </td><td>0         </td><td> 0        </td><td>0.03030303</td><td> 0.000000 </td></tr>\n",
       "\t<tr><td>2009      </td><td> 3        </td><td>-3.970292 </td><td> 3        </td><td>0         </td><td> 0        </td><td>0         </td><td> 0        </td><td>0.01886793</td><td> 0.000000 </td></tr>\n",
       "\t<tr><td>2009      </td><td> 4        </td><td>-3.970292 </td><td> 4        </td><td>0         </td><td> 0        </td><td>0         </td><td> 0        </td><td>0.01886793</td><td> 0.000000 </td></tr>\n",
       "\t<tr><td>2009      </td><td> 5        </td><td>-2.803360 </td><td> 5        </td><td>0         </td><td> 0        </td><td>0         </td><td> 0        </td><td>0.06060606</td><td> 0.000000 </td></tr>\n",
       "\t<tr><td>2009      </td><td> 6        </td><td>-3.970292 </td><td> 6        </td><td>0         </td><td> 0        </td><td>0         </td><td> 0        </td><td>0.01886793</td><td> 0.000000 </td></tr>\n",
       "\t<tr><td>2009      </td><td> 7        </td><td>-3.091042 </td><td> 7        </td><td>0         </td><td> 0        </td><td>0         </td><td> 0        </td><td>0.04545454</td><td> 0.000000 </td></tr>\n",
       "\t<tr><td>2009      </td><td> 8        </td><td>-3.091042 </td><td> 8        </td><td>0         </td><td> 0        </td><td>0         </td><td> 0        </td><td>0.04545454</td><td> 0.000000 </td></tr>\n",
       "\t<tr><td>2009      </td><td> 9        </td><td>-3.970292 </td><td> 9        </td><td>0         </td><td> 0        </td><td>0         </td><td> 0        </td><td>0.01886793</td><td> 0.000000 </td></tr>\n",
       "\t<tr><td>2009      </td><td>10        </td><td>-2.580217 </td><td>10        </td><td>0         </td><td> 0        </td><td>0         </td><td> 0        </td><td>0.07575758</td><td> 0.000000 </td></tr>\n",
       "\t<tr><td>2009      </td><td>11        </td><td>-3.091042 </td><td>11        </td><td>0         </td><td> 0        </td><td>0         </td><td> 0        </td><td>0.04545454</td><td> 0.000000 </td></tr>\n",
       "\t<tr><td>2009      </td><td>12        </td><td>-4.189655 </td><td>12        </td><td>0         </td><td> 0        </td><td>0         </td><td> 0        </td><td>0.01515152</td><td> 0.000000 </td></tr>\n",
       "\t<tr><td>2010      </td><td> 1        </td><td>-3.496508 </td><td>13        </td><td>0         </td><td> 0        </td><td>0         </td><td> 0        </td><td>0.03030303</td><td> 0.000000 </td></tr>\n",
       "\t<tr><td>2010      </td><td> 2        </td><td>-3.970292 </td><td>14        </td><td>0         </td><td> 0        </td><td>0         </td><td> 0        </td><td>0.01886793</td><td> 0.000000 </td></tr>\n",
       "\t<tr><td>2010      </td><td> 3        </td><td>-4.189655 </td><td>15        </td><td>0         </td><td> 0        </td><td>0         </td><td> 0        </td><td>0.01515152</td><td> 0.000000 </td></tr>\n",
       "\t<tr><td>2010      </td><td> 4        </td><td>-2.803360 </td><td>16        </td><td>0         </td><td> 0        </td><td>0         </td><td> 0        </td><td>0.06060606</td><td> 0.000000 </td></tr>\n",
       "\t<tr><td>2010      </td><td> 5        </td><td>-2.803360 </td><td>17        </td><td>0         </td><td> 0        </td><td>0         </td><td> 0        </td><td>0.06060606</td><td> 0.000000 </td></tr>\n",
       "\t<tr><td>2010      </td><td> 6        </td><td>-3.496508 </td><td>18        </td><td>0         </td><td> 0        </td><td>0         </td><td> 0        </td><td>0.03030303</td><td> 0.000000 </td></tr>\n",
       "\t<tr><td>2010      </td><td> 7        </td><td>-4.189655 </td><td>19        </td><td>0         </td><td> 0        </td><td>0         </td><td> 0        </td><td>0.01515152</td><td> 0.000000 </td></tr>\n",
       "\t<tr><td>2010      </td><td> 8        </td><td>-3.091042 </td><td>20        </td><td>0         </td><td> 0        </td><td>0         </td><td> 0        </td><td>0.04545454</td><td> 0.000000 </td></tr>\n",
       "\t<tr><td>2010      </td><td> 9        </td><td>-4.189655 </td><td>21        </td><td>0         </td><td> 0        </td><td>0         </td><td> 0        </td><td>0.01515152</td><td> 0.000000 </td></tr>\n",
       "\t<tr><td>2010      </td><td>10        </td><td>-3.496508 </td><td>22        </td><td>0         </td><td> 0        </td><td>0         </td><td> 0        </td><td>0.03030303</td><td> 0.000000 </td></tr>\n",
       "\t<tr><td>2010      </td><td>11        </td><td>-3.496508 </td><td>23        </td><td>0         </td><td> 0        </td><td>0         </td><td> 0        </td><td>0.03030303</td><td> 0.000000 </td></tr>\n",
       "\t<tr><td>2010      </td><td>12        </td><td>-2.580217 </td><td>24        </td><td>0         </td><td> 0        </td><td>0         </td><td> 0        </td><td>0.07575758</td><td> 0.000000 </td></tr>\n",
       "\t<tr><td>2011      </td><td> 1        </td><td>-2.803360 </td><td>25        </td><td>1         </td><td> 1        </td><td>0         </td><td> 0        </td><td>0.06060606</td><td> 0.000000 </td></tr>\n",
       "\t<tr><td>2011      </td><td> 2        </td><td>-3.496508 </td><td>26        </td><td>1         </td><td> 2        </td><td>0         </td><td> 0        </td><td>0.03030303</td><td> 0.000000 </td></tr>\n",
       "\t<tr><td>2011      </td><td> 3        </td><td>-2.803360 </td><td>27        </td><td>1         </td><td> 3        </td><td>0         </td><td> 0        </td><td>0.06060606</td><td> 0.000000 </td></tr>\n",
       "\t<tr><td>2011      </td><td> 4        </td><td>-3.496508 </td><td>28        </td><td>1         </td><td> 4        </td><td>0         </td><td> 0        </td><td>0.03030303</td><td> 0.000000 </td></tr>\n",
       "\t<tr><td>2011      </td><td> 5        </td><td>-2.803360 </td><td>29        </td><td>1         </td><td> 5        </td><td>0         </td><td> 0        </td><td>0.06060606</td><td> 0.000000 </td></tr>\n",
       "\t<tr><td>2011      </td><td> 6        </td><td>-3.496508 </td><td>30        </td><td>1         </td><td> 6        </td><td>0         </td><td> 0        </td><td>0.03030303</td><td> 0.000000 </td></tr>\n",
       "\t<tr><td>2011      </td><td> 7        </td><td>-2.803360 </td><td>31        </td><td>1         </td><td> 7        </td><td>0         </td><td> 0        </td><td>0.06060606</td><td> 0.000000 </td></tr>\n",
       "\t<tr><td>2011      </td><td> 8        </td><td>-2.803360 </td><td>32        </td><td>1         </td><td> 8        </td><td>0         </td><td> 0        </td><td>0.06060606</td><td> 0.000000 </td></tr>\n",
       "\t<tr><td>2011      </td><td> 9        </td><td>-2.580217 </td><td>33        </td><td>1         </td><td> 9        </td><td>0         </td><td> 0        </td><td>0.07575758</td><td> 0.000000 </td></tr>\n",
       "\t<tr><td>2011      </td><td>10        </td><td>-3.091042 </td><td>34        </td><td>1         </td><td>10        </td><td>0         </td><td> 0        </td><td>0.04545454</td><td> 0.000000 </td></tr>\n",
       "\t<tr><td>2011      </td><td>11        </td><td>-2.580217 </td><td>35        </td><td>1         </td><td>11        </td><td>0         </td><td> 0        </td><td>0.07575758</td><td> 0.000000 </td></tr>\n",
       "\t<tr><td>2011      </td><td>12        </td><td>-3.496508 </td><td>36        </td><td>1         </td><td>12        </td><td>0         </td><td> 0        </td><td>0.03030303</td><td> 0.000000 </td></tr>\n",
       "\t<tr><td>2012      </td><td> 1        </td><td>-3.091042 </td><td>37        </td><td>1         </td><td>13        </td><td>0         </td><td> 0        </td><td>0.04545454</td><td> 0.000000 </td></tr>\n",
       "\t<tr><td>2012      </td><td> 2        </td><td>-4.189655 </td><td>38        </td><td>1         </td><td>14        </td><td>0         </td><td> 0        </td><td>0.01515152</td><td> 0.000000 </td></tr>\n",
       "\t<tr><td>2012      </td><td> 3        </td><td>-2.110213 </td><td>39        </td><td>1         </td><td>15        </td><td>0         </td><td> 0        </td><td>0.12121212</td><td> 0.000000 </td></tr>\n",
       "\t<tr><td>2012      </td><td> 4        </td><td>-3.496508 </td><td>40        </td><td>1         </td><td>16        </td><td>0         </td><td> 0        </td><td>0.03030303</td><td> 0.000000 </td></tr>\n",
       "\t<tr><td>2012      </td><td> 5        </td><td>-3.091042 </td><td>41        </td><td>1         </td><td>17        </td><td>0         </td><td> 0        </td><td>0.04545454</td><td> 0.000000 </td></tr>\n",
       "\t<tr><td>2012      </td><td> 6        </td><td>-3.091042 </td><td>42        </td><td>1         </td><td>18        </td><td>1         </td><td> 1        </td><td>0.04545454</td><td>-3.091042 </td></tr>\n",
       "\t<tr><td>2012      </td><td> 7        </td><td>-2.580217 </td><td>43        </td><td>1         </td><td>19        </td><td>1         </td><td> 2        </td><td>0.07575758</td><td>-3.091042 </td></tr>\n",
       "\t<tr><td>2012      </td><td> 8        </td><td>-1.791759 </td><td>44        </td><td>1         </td><td>20        </td><td>1         </td><td> 3        </td><td>0.16666667</td><td>-2.580217 </td></tr>\n",
       "\t<tr><td>2012      </td><td> 9        </td><td>-3.496508 </td><td>45        </td><td>1         </td><td>21        </td><td>1         </td><td> 4        </td><td>0.03030303</td><td>-1.791759 </td></tr>\n",
       "\t<tr><td>2012      </td><td>10        </td><td>-2.397895 </td><td>46        </td><td>1         </td><td>22        </td><td>1         </td><td> 5        </td><td>0.09090909</td><td>-3.496508 </td></tr>\n",
       "\t<tr><td>2012      </td><td>11        </td><td>-2.397895 </td><td>47        </td><td>1         </td><td>23        </td><td>1         </td><td> 6        </td><td>0.09090909</td><td>-2.397895 </td></tr>\n",
       "\t<tr><td>2012      </td><td>12        </td><td>-2.397895 </td><td>48        </td><td>1         </td><td>24        </td><td>1         </td><td> 7        </td><td>0.09090909</td><td>-2.397895 </td></tr>\n",
       "\t<tr><td>2013      </td><td> 1        </td><td>-1.386294 </td><td>49        </td><td>1         </td><td>25        </td><td>1         </td><td> 8        </td><td>0.25000000</td><td>-2.397895 </td></tr>\n",
       "\t<tr><td>2013      </td><td> 2        </td><td>-1.916923 </td><td>50        </td><td>1         </td><td>26        </td><td>1         </td><td> 9        </td><td>0.14705882</td><td>-1.386294 </td></tr>\n",
       "\t<tr><td>2013      </td><td> 3        </td><td>-1.821612 </td><td>51        </td><td>1         </td><td>27        </td><td>1         </td><td>10        </td><td>0.16176471</td><td>-1.916923 </td></tr>\n",
       "\t<tr><td>2013      </td><td> 4        </td><td>-2.140066 </td><td>52        </td><td>1         </td><td>28        </td><td>1         </td><td>11        </td><td>0.11764706</td><td>-1.821612 </td></tr>\n",
       "\t<tr><td>2013      </td><td> 5        </td><td>-1.654558 </td><td>53        </td><td>1         </td><td>29        </td><td>1         </td><td>12        </td><td>0.19117647</td><td>-2.140066 </td></tr>\n",
       "\t<tr><td>2013      </td><td> 6        </td><td>-2.022283 </td><td>54        </td><td>1         </td><td>30        </td><td>1         </td><td>13        </td><td>0.13235294</td><td>-1.654558 </td></tr>\n",
       "</tbody>\n",
       "</table>\n"
      ],
      "text/latex": [
       "\\begin{tabular}{r|llllllllll}\n",
       " year & month & per\\_treated & time & or & or\\_trend & imp & imp\\_trend & per\\_treated2 & lag1\\_treat\\_ln\\\\\n",
       "\\hline\n",
       "\t 2009       &  1         & -3.970292  &  1         & 0          &  0         & 0          &  0         & 0.01886793 &  0.000000 \\\\\n",
       "\t 2009       &  2         & -3.496508  &  2         & 0          &  0         & 0          &  0         & 0.03030303 &  0.000000 \\\\\n",
       "\t 2009       &  3         & -3.970292  &  3         & 0          &  0         & 0          &  0         & 0.01886793 &  0.000000 \\\\\n",
       "\t 2009       &  4         & -3.970292  &  4         & 0          &  0         & 0          &  0         & 0.01886793 &  0.000000 \\\\\n",
       "\t 2009       &  5         & -2.803360  &  5         & 0          &  0         & 0          &  0         & 0.06060606 &  0.000000 \\\\\n",
       "\t 2009       &  6         & -3.970292  &  6         & 0          &  0         & 0          &  0         & 0.01886793 &  0.000000 \\\\\n",
       "\t 2009       &  7         & -3.091042  &  7         & 0          &  0         & 0          &  0         & 0.04545454 &  0.000000 \\\\\n",
       "\t 2009       &  8         & -3.091042  &  8         & 0          &  0         & 0          &  0         & 0.04545454 &  0.000000 \\\\\n",
       "\t 2009       &  9         & -3.970292  &  9         & 0          &  0         & 0          &  0         & 0.01886793 &  0.000000 \\\\\n",
       "\t 2009       & 10         & -2.580217  & 10         & 0          &  0         & 0          &  0         & 0.07575758 &  0.000000 \\\\\n",
       "\t 2009       & 11         & -3.091042  & 11         & 0          &  0         & 0          &  0         & 0.04545454 &  0.000000 \\\\\n",
       "\t 2009       & 12         & -4.189655  & 12         & 0          &  0         & 0          &  0         & 0.01515152 &  0.000000 \\\\\n",
       "\t 2010       &  1         & -3.496508  & 13         & 0          &  0         & 0          &  0         & 0.03030303 &  0.000000 \\\\\n",
       "\t 2010       &  2         & -3.970292  & 14         & 0          &  0         & 0          &  0         & 0.01886793 &  0.000000 \\\\\n",
       "\t 2010       &  3         & -4.189655  & 15         & 0          &  0         & 0          &  0         & 0.01515152 &  0.000000 \\\\\n",
       "\t 2010       &  4         & -2.803360  & 16         & 0          &  0         & 0          &  0         & 0.06060606 &  0.000000 \\\\\n",
       "\t 2010       &  5         & -2.803360  & 17         & 0          &  0         & 0          &  0         & 0.06060606 &  0.000000 \\\\\n",
       "\t 2010       &  6         & -3.496508  & 18         & 0          &  0         & 0          &  0         & 0.03030303 &  0.000000 \\\\\n",
       "\t 2010       &  7         & -4.189655  & 19         & 0          &  0         & 0          &  0         & 0.01515152 &  0.000000 \\\\\n",
       "\t 2010       &  8         & -3.091042  & 20         & 0          &  0         & 0          &  0         & 0.04545454 &  0.000000 \\\\\n",
       "\t 2010       &  9         & -4.189655  & 21         & 0          &  0         & 0          &  0         & 0.01515152 &  0.000000 \\\\\n",
       "\t 2010       & 10         & -3.496508  & 22         & 0          &  0         & 0          &  0         & 0.03030303 &  0.000000 \\\\\n",
       "\t 2010       & 11         & -3.496508  & 23         & 0          &  0         & 0          &  0         & 0.03030303 &  0.000000 \\\\\n",
       "\t 2010       & 12         & -2.580217  & 24         & 0          &  0         & 0          &  0         & 0.07575758 &  0.000000 \\\\\n",
       "\t 2011       &  1         & -2.803360  & 25         & 1          &  1         & 0          &  0         & 0.06060606 &  0.000000 \\\\\n",
       "\t 2011       &  2         & -3.496508  & 26         & 1          &  2         & 0          &  0         & 0.03030303 &  0.000000 \\\\\n",
       "\t 2011       &  3         & -2.803360  & 27         & 1          &  3         & 0          &  0         & 0.06060606 &  0.000000 \\\\\n",
       "\t 2011       &  4         & -3.496508  & 28         & 1          &  4         & 0          &  0         & 0.03030303 &  0.000000 \\\\\n",
       "\t 2011       &  5         & -2.803360  & 29         & 1          &  5         & 0          &  0         & 0.06060606 &  0.000000 \\\\\n",
       "\t 2011       &  6         & -3.496508  & 30         & 1          &  6         & 0          &  0         & 0.03030303 &  0.000000 \\\\\n",
       "\t 2011       &  7         & -2.803360  & 31         & 1          &  7         & 0          &  0         & 0.06060606 &  0.000000 \\\\\n",
       "\t 2011       &  8         & -2.803360  & 32         & 1          &  8         & 0          &  0         & 0.06060606 &  0.000000 \\\\\n",
       "\t 2011       &  9         & -2.580217  & 33         & 1          &  9         & 0          &  0         & 0.07575758 &  0.000000 \\\\\n",
       "\t 2011       & 10         & -3.091042  & 34         & 1          & 10         & 0          &  0         & 0.04545454 &  0.000000 \\\\\n",
       "\t 2011       & 11         & -2.580217  & 35         & 1          & 11         & 0          &  0         & 0.07575758 &  0.000000 \\\\\n",
       "\t 2011       & 12         & -3.496508  & 36         & 1          & 12         & 0          &  0         & 0.03030303 &  0.000000 \\\\\n",
       "\t 2012       &  1         & -3.091042  & 37         & 1          & 13         & 0          &  0         & 0.04545454 &  0.000000 \\\\\n",
       "\t 2012       &  2         & -4.189655  & 38         & 1          & 14         & 0          &  0         & 0.01515152 &  0.000000 \\\\\n",
       "\t 2012       &  3         & -2.110213  & 39         & 1          & 15         & 0          &  0         & 0.12121212 &  0.000000 \\\\\n",
       "\t 2012       &  4         & -3.496508  & 40         & 1          & 16         & 0          &  0         & 0.03030303 &  0.000000 \\\\\n",
       "\t 2012       &  5         & -3.091042  & 41         & 1          & 17         & 0          &  0         & 0.04545454 &  0.000000 \\\\\n",
       "\t 2012       &  6         & -3.091042  & 42         & 1          & 18         & 1          &  1         & 0.04545454 & -3.091042 \\\\\n",
       "\t 2012       &  7         & -2.580217  & 43         & 1          & 19         & 1          &  2         & 0.07575758 & -3.091042 \\\\\n",
       "\t 2012       &  8         & -1.791759  & 44         & 1          & 20         & 1          &  3         & 0.16666667 & -2.580217 \\\\\n",
       "\t 2012       &  9         & -3.496508  & 45         & 1          & 21         & 1          &  4         & 0.03030303 & -1.791759 \\\\\n",
       "\t 2012       & 10         & -2.397895  & 46         & 1          & 22         & 1          &  5         & 0.09090909 & -3.496508 \\\\\n",
       "\t 2012       & 11         & -2.397895  & 47         & 1          & 23         & 1          &  6         & 0.09090909 & -2.397895 \\\\\n",
       "\t 2012       & 12         & -2.397895  & 48         & 1          & 24         & 1          &  7         & 0.09090909 & -2.397895 \\\\\n",
       "\t 2013       &  1         & -1.386294  & 49         & 1          & 25         & 1          &  8         & 0.25000000 & -2.397895 \\\\\n",
       "\t 2013       &  2         & -1.916923  & 50         & 1          & 26         & 1          &  9         & 0.14705882 & -1.386294 \\\\\n",
       "\t 2013       &  3         & -1.821612  & 51         & 1          & 27         & 1          & 10         & 0.16176471 & -1.916923 \\\\\n",
       "\t 2013       &  4         & -2.140066  & 52         & 1          & 28         & 1          & 11         & 0.11764706 & -1.821612 \\\\\n",
       "\t 2013       &  5         & -1.654558  & 53         & 1          & 29         & 1          & 12         & 0.19117647 & -2.140066 \\\\\n",
       "\t 2013       &  6         & -2.022283  & 54         & 1          & 30         & 1          & 13         & 0.13235294 & -1.654558 \\\\\n",
       "\\end{tabular}\n"
      ],
      "text/markdown": [
       "\n",
       "year | month | per_treated | time | or | or_trend | imp | imp_trend | per_treated2 | lag1_treat_ln | \n",
       "|---|---|---|---|---|---|---|---|---|---|---|---|---|---|---|---|---|---|---|---|---|---|---|---|---|---|---|---|---|---|---|---|---|---|---|---|---|---|---|---|---|---|---|---|---|---|---|---|---|---|---|---|---|---|\n",
       "| 2009       |  1         | -3.970292  |  1         | 0          |  0         | 0          |  0         | 0.01886793 |  0.000000  | \n",
       "| 2009       |  2         | -3.496508  |  2         | 0          |  0         | 0          |  0         | 0.03030303 |  0.000000  | \n",
       "| 2009       |  3         | -3.970292  |  3         | 0          |  0         | 0          |  0         | 0.01886793 |  0.000000  | \n",
       "| 2009       |  4         | -3.970292  |  4         | 0          |  0         | 0          |  0         | 0.01886793 |  0.000000  | \n",
       "| 2009       |  5         | -2.803360  |  5         | 0          |  0         | 0          |  0         | 0.06060606 |  0.000000  | \n",
       "| 2009       |  6         | -3.970292  |  6         | 0          |  0         | 0          |  0         | 0.01886793 |  0.000000  | \n",
       "| 2009       |  7         | -3.091042  |  7         | 0          |  0         | 0          |  0         | 0.04545454 |  0.000000  | \n",
       "| 2009       |  8         | -3.091042  |  8         | 0          |  0         | 0          |  0         | 0.04545454 |  0.000000  | \n",
       "| 2009       |  9         | -3.970292  |  9         | 0          |  0         | 0          |  0         | 0.01886793 |  0.000000  | \n",
       "| 2009       | 10         | -2.580217  | 10         | 0          |  0         | 0          |  0         | 0.07575758 |  0.000000  | \n",
       "| 2009       | 11         | -3.091042  | 11         | 0          |  0         | 0          |  0         | 0.04545454 |  0.000000  | \n",
       "| 2009       | 12         | -4.189655  | 12         | 0          |  0         | 0          |  0         | 0.01515152 |  0.000000  | \n",
       "| 2010       |  1         | -3.496508  | 13         | 0          |  0         | 0          |  0         | 0.03030303 |  0.000000  | \n",
       "| 2010       |  2         | -3.970292  | 14         | 0          |  0         | 0          |  0         | 0.01886793 |  0.000000  | \n",
       "| 2010       |  3         | -4.189655  | 15         | 0          |  0         | 0          |  0         | 0.01515152 |  0.000000  | \n",
       "| 2010       |  4         | -2.803360  | 16         | 0          |  0         | 0          |  0         | 0.06060606 |  0.000000  | \n",
       "| 2010       |  5         | -2.803360  | 17         | 0          |  0         | 0          |  0         | 0.06060606 |  0.000000  | \n",
       "| 2010       |  6         | -3.496508  | 18         | 0          |  0         | 0          |  0         | 0.03030303 |  0.000000  | \n",
       "| 2010       |  7         | -4.189655  | 19         | 0          |  0         | 0          |  0         | 0.01515152 |  0.000000  | \n",
       "| 2010       |  8         | -3.091042  | 20         | 0          |  0         | 0          |  0         | 0.04545454 |  0.000000  | \n",
       "| 2010       |  9         | -4.189655  | 21         | 0          |  0         | 0          |  0         | 0.01515152 |  0.000000  | \n",
       "| 2010       | 10         | -3.496508  | 22         | 0          |  0         | 0          |  0         | 0.03030303 |  0.000000  | \n",
       "| 2010       | 11         | -3.496508  | 23         | 0          |  0         | 0          |  0         | 0.03030303 |  0.000000  | \n",
       "| 2010       | 12         | -2.580217  | 24         | 0          |  0         | 0          |  0         | 0.07575758 |  0.000000  | \n",
       "| 2011       |  1         | -2.803360  | 25         | 1          |  1         | 0          |  0         | 0.06060606 |  0.000000  | \n",
       "| 2011       |  2         | -3.496508  | 26         | 1          |  2         | 0          |  0         | 0.03030303 |  0.000000  | \n",
       "| 2011       |  3         | -2.803360  | 27         | 1          |  3         | 0          |  0         | 0.06060606 |  0.000000  | \n",
       "| 2011       |  4         | -3.496508  | 28         | 1          |  4         | 0          |  0         | 0.03030303 |  0.000000  | \n",
       "| 2011       |  5         | -2.803360  | 29         | 1          |  5         | 0          |  0         | 0.06060606 |  0.000000  | \n",
       "| 2011       |  6         | -3.496508  | 30         | 1          |  6         | 0          |  0         | 0.03030303 |  0.000000  | \n",
       "| 2011       |  7         | -2.803360  | 31         | 1          |  7         | 0          |  0         | 0.06060606 |  0.000000  | \n",
       "| 2011       |  8         | -2.803360  | 32         | 1          |  8         | 0          |  0         | 0.06060606 |  0.000000  | \n",
       "| 2011       |  9         | -2.580217  | 33         | 1          |  9         | 0          |  0         | 0.07575758 |  0.000000  | \n",
       "| 2011       | 10         | -3.091042  | 34         | 1          | 10         | 0          |  0         | 0.04545454 |  0.000000  | \n",
       "| 2011       | 11         | -2.580217  | 35         | 1          | 11         | 0          |  0         | 0.07575758 |  0.000000  | \n",
       "| 2011       | 12         | -3.496508  | 36         | 1          | 12         | 0          |  0         | 0.03030303 |  0.000000  | \n",
       "| 2012       |  1         | -3.091042  | 37         | 1          | 13         | 0          |  0         | 0.04545454 |  0.000000  | \n",
       "| 2012       |  2         | -4.189655  | 38         | 1          | 14         | 0          |  0         | 0.01515152 |  0.000000  | \n",
       "| 2012       |  3         | -2.110213  | 39         | 1          | 15         | 0          |  0         | 0.12121212 |  0.000000  | \n",
       "| 2012       |  4         | -3.496508  | 40         | 1          | 16         | 0          |  0         | 0.03030303 |  0.000000  | \n",
       "| 2012       |  5         | -3.091042  | 41         | 1          | 17         | 0          |  0         | 0.04545454 |  0.000000  | \n",
       "| 2012       |  6         | -3.091042  | 42         | 1          | 18         | 1          |  1         | 0.04545454 | -3.091042  | \n",
       "| 2012       |  7         | -2.580217  | 43         | 1          | 19         | 1          |  2         | 0.07575758 | -3.091042  | \n",
       "| 2012       |  8         | -1.791759  | 44         | 1          | 20         | 1          |  3         | 0.16666667 | -2.580217  | \n",
       "| 2012       |  9         | -3.496508  | 45         | 1          | 21         | 1          |  4         | 0.03030303 | -1.791759  | \n",
       "| 2012       | 10         | -2.397895  | 46         | 1          | 22         | 1          |  5         | 0.09090909 | -3.496508  | \n",
       "| 2012       | 11         | -2.397895  | 47         | 1          | 23         | 1          |  6         | 0.09090909 | -2.397895  | \n",
       "| 2012       | 12         | -2.397895  | 48         | 1          | 24         | 1          |  7         | 0.09090909 | -2.397895  | \n",
       "| 2013       |  1         | -1.386294  | 49         | 1          | 25         | 1          |  8         | 0.25000000 | -2.397895  | \n",
       "| 2013       |  2         | -1.916923  | 50         | 1          | 26         | 1          |  9         | 0.14705882 | -1.386294  | \n",
       "| 2013       |  3         | -1.821612  | 51         | 1          | 27         | 1          | 10         | 0.16176471 | -1.916923  | \n",
       "| 2013       |  4         | -2.140066  | 52         | 1          | 28         | 1          | 11         | 0.11764706 | -1.821612  | \n",
       "| 2013       |  5         | -1.654558  | 53         | 1          | 29         | 1          | 12         | 0.19117647 | -2.140066  | \n",
       "| 2013       |  6         | -2.022283  | 54         | 1          | 30         | 1          | 13         | 0.13235294 | -1.654558  | \n",
       "\n",
       "\n"
      ],
      "text/plain": [
       "   year month per_treated time or or_trend imp imp_trend per_treated2\n",
       "1  2009  1    -3.970292    1   0   0       0    0        0.01886793  \n",
       "2  2009  2    -3.496508    2   0   0       0    0        0.03030303  \n",
       "3  2009  3    -3.970292    3   0   0       0    0        0.01886793  \n",
       "4  2009  4    -3.970292    4   0   0       0    0        0.01886793  \n",
       "5  2009  5    -2.803360    5   0   0       0    0        0.06060606  \n",
       "6  2009  6    -3.970292    6   0   0       0    0        0.01886793  \n",
       "7  2009  7    -3.091042    7   0   0       0    0        0.04545454  \n",
       "8  2009  8    -3.091042    8   0   0       0    0        0.04545454  \n",
       "9  2009  9    -3.970292    9   0   0       0    0        0.01886793  \n",
       "10 2009 10    -2.580217   10   0   0       0    0        0.07575758  \n",
       "11 2009 11    -3.091042   11   0   0       0    0        0.04545454  \n",
       "12 2009 12    -4.189655   12   0   0       0    0        0.01515152  \n",
       "13 2010  1    -3.496508   13   0   0       0    0        0.03030303  \n",
       "14 2010  2    -3.970292   14   0   0       0    0        0.01886793  \n",
       "15 2010  3    -4.189655   15   0   0       0    0        0.01515152  \n",
       "16 2010  4    -2.803360   16   0   0       0    0        0.06060606  \n",
       "17 2010  5    -2.803360   17   0   0       0    0        0.06060606  \n",
       "18 2010  6    -3.496508   18   0   0       0    0        0.03030303  \n",
       "19 2010  7    -4.189655   19   0   0       0    0        0.01515152  \n",
       "20 2010  8    -3.091042   20   0   0       0    0        0.04545454  \n",
       "21 2010  9    -4.189655   21   0   0       0    0        0.01515152  \n",
       "22 2010 10    -3.496508   22   0   0       0    0        0.03030303  \n",
       "23 2010 11    -3.496508   23   0   0       0    0        0.03030303  \n",
       "24 2010 12    -2.580217   24   0   0       0    0        0.07575758  \n",
       "25 2011  1    -2.803360   25   1   1       0    0        0.06060606  \n",
       "26 2011  2    -3.496508   26   1   2       0    0        0.03030303  \n",
       "27 2011  3    -2.803360   27   1   3       0    0        0.06060606  \n",
       "28 2011  4    -3.496508   28   1   4       0    0        0.03030303  \n",
       "29 2011  5    -2.803360   29   1   5       0    0        0.06060606  \n",
       "30 2011  6    -3.496508   30   1   6       0    0        0.03030303  \n",
       "31 2011  7    -2.803360   31   1   7       0    0        0.06060606  \n",
       "32 2011  8    -2.803360   32   1   8       0    0        0.06060606  \n",
       "33 2011  9    -2.580217   33   1   9       0    0        0.07575758  \n",
       "34 2011 10    -3.091042   34   1  10       0    0        0.04545454  \n",
       "35 2011 11    -2.580217   35   1  11       0    0        0.07575758  \n",
       "36 2011 12    -3.496508   36   1  12       0    0        0.03030303  \n",
       "37 2012  1    -3.091042   37   1  13       0    0        0.04545454  \n",
       "38 2012  2    -4.189655   38   1  14       0    0        0.01515152  \n",
       "39 2012  3    -2.110213   39   1  15       0    0        0.12121212  \n",
       "40 2012  4    -3.496508   40   1  16       0    0        0.03030303  \n",
       "41 2012  5    -3.091042   41   1  17       0    0        0.04545454  \n",
       "42 2012  6    -3.091042   42   1  18       1    1        0.04545454  \n",
       "43 2012  7    -2.580217   43   1  19       1    2        0.07575758  \n",
       "44 2012  8    -1.791759   44   1  20       1    3        0.16666667  \n",
       "45 2012  9    -3.496508   45   1  21       1    4        0.03030303  \n",
       "46 2012 10    -2.397895   46   1  22       1    5        0.09090909  \n",
       "47 2012 11    -2.397895   47   1  23       1    6        0.09090909  \n",
       "48 2012 12    -2.397895   48   1  24       1    7        0.09090909  \n",
       "49 2013  1    -1.386294   49   1  25       1    8        0.25000000  \n",
       "50 2013  2    -1.916923   50   1  26       1    9        0.14705882  \n",
       "51 2013  3    -1.821612   51   1  27       1   10        0.16176471  \n",
       "52 2013  4    -2.140066   52   1  28       1   11        0.11764706  \n",
       "53 2013  5    -1.654558   53   1  29       1   12        0.19117647  \n",
       "54 2013  6    -2.022283   54   1  30       1   13        0.13235294  \n",
       "   lag1_treat_ln\n",
       "1   0.000000    \n",
       "2   0.000000    \n",
       "3   0.000000    \n",
       "4   0.000000    \n",
       "5   0.000000    \n",
       "6   0.000000    \n",
       "7   0.000000    \n",
       "8   0.000000    \n",
       "9   0.000000    \n",
       "10  0.000000    \n",
       "11  0.000000    \n",
       "12  0.000000    \n",
       "13  0.000000    \n",
       "14  0.000000    \n",
       "15  0.000000    \n",
       "16  0.000000    \n",
       "17  0.000000    \n",
       "18  0.000000    \n",
       "19  0.000000    \n",
       "20  0.000000    \n",
       "21  0.000000    \n",
       "22  0.000000    \n",
       "23  0.000000    \n",
       "24  0.000000    \n",
       "25  0.000000    \n",
       "26  0.000000    \n",
       "27  0.000000    \n",
       "28  0.000000    \n",
       "29  0.000000    \n",
       "30  0.000000    \n",
       "31  0.000000    \n",
       "32  0.000000    \n",
       "33  0.000000    \n",
       "34  0.000000    \n",
       "35  0.000000    \n",
       "36  0.000000    \n",
       "37  0.000000    \n",
       "38  0.000000    \n",
       "39  0.000000    \n",
       "40  0.000000    \n",
       "41  0.000000    \n",
       "42 -3.091042    \n",
       "43 -3.091042    \n",
       "44 -2.580217    \n",
       "45 -1.791759    \n",
       "46 -3.496508    \n",
       "47 -2.397895    \n",
       "48 -2.397895    \n",
       "49 -2.397895    \n",
       "50 -1.386294    \n",
       "51 -1.916923    \n",
       "52 -1.821612    \n",
       "53 -2.140066    \n",
       "54 -1.654558    "
      ]
     },
     "metadata": {},
     "output_type": "display_data"
    }
   ],
   "source": [
    "data"
   ]
  },
  {
   "cell_type": "markdown",
   "metadata": {},
   "source": [
    "## 1. Visual Impact Analysis of Interruptions"
   ]
  },
  {
   "cell_type": "code",
   "execution_count": 5,
   "metadata": {},
   "outputs": [
    {
     "data": {
      "image/png": "[encoded data removed]",
      "text/plain": [
       "plot without title"
      ]
     },
     "metadata": {},
     "output_type": "display_data"
    }
   ],
   "source": [
    "plot(data$time[1:54],data$per_treated[1:54],\n",
    "     ylab=\"Ln(Proportion of strokes treated)\",\n",
    "     ylim=c(-6,0),\n",
    "     xlab=\"Year-Month\",\n",
    "     type=\"l\",\n",
    "     col=\"blue\",\n",
    "     xaxt=\"n\")\n",
    "\n",
    "#OR study portion of the time series\n",
    "points(data$time[25:36],data$per_treated[25:36],\n",
    "       type='l',\n",
    "       col=\"dark green\")\n",
    "\n",
    "\n",
    "#ED and Ambulance implementation portion of the time series\n",
    "points(data$time[37:54],data$per_treated[37:54],\n",
    "       type='l',\n",
    "       col=\"red\")\n",
    "\n",
    "axis(1, at=1:54, labels=data$time[1:54])\n",
    "\n",
    "\n",
    "# Add in the points for the figure\n",
    "points(data$time[1:24],data$per_treated[1:24],\n",
    "       col=\"blue\",\n",
    "       pch=20)\n",
    "\n",
    "points(data$time[25:36],data$per_treated[25:36],\n",
    "       col=\"dark green\",\n",
    "       pch=20)\n",
    "\n",
    "\n",
    "points(data$time[37:54],data$per_treated[37:54],\n",
    "       col=\"red\",\n",
    "       pch=20)\n",
    "\n",
    "\n",
    "# Interruption 1 the start of the OR study\n",
    "abline(v=24.5,lty=2, lwd = 2)\n",
    "\n",
    "# Interruption 2 ED implementation \n",
    "abline(v=36.5,lty=2, lwd = 2)\n",
    "\n",
    "# Interruption 3 Ambulance implementation \n",
    "abline(v=41.5,lty=2, lwd = 2)\n",
    "\n",
    "\n",
    "# Add in a legend\n",
    "legend(x=2, y=0.2, legend=c(\"Before the OR study\",\"Interrupt 1: OR study\", \"Interrupt 2: ED Redirect\", \"Interrupt 3: Amb Phone-Ahead\"),\n",
    "       col=c(\"blue\",\"dark green\", \"black\", \"red\"),pch=20, cex=0.6, pt.cex = 1)\n"
   ]
  },
  {
   "cell_type": "markdown",
   "metadata": {},
   "source": [
    "Interruption 2 does not give sufficient points for an ITS.  \n",
    "\n",
    "Options 1. Merge interrupts 2 and 3.\n",
    "\n",
    "Option 2: Include a phase in.  # opt for phase in."
   ]
  },
  {
   "cell_type": "markdown",
   "metadata": {},
   "source": [
    "## 2. ITS - Linear Regression using Generalised Least Squares"
   ]
  },
  {
   "cell_type": "markdown",
   "metadata": {},
   "source": [
    "## 2.1 Modelling a phased-implementation period"
   ]
  },
  {
   "cell_type": "markdown",
   "metadata": {},
   "source": [
    "Partial implementation of the changes took place at point 37.  However, the full implementation of the recommended changes did not take place at point 41.  "
   ]
  },
  {
   "cell_type": "markdown",
   "metadata": {},
   "source": [
    "### 2.1.1 Exclude phase-in period and correct other variables"
   ]
  },
  {
   "cell_type": "markdown",
   "metadata": {},
   "source": [
    "We cannot model the phase-in period with the number of data points available.  \n",
    "Therefore these points are excluded"
   ]
  },
  {
   "cell_type": "code",
   "execution_count": 6,
   "metadata": {
    "collapsed": true
   },
   "outputs": [],
   "source": [
    "phased_data <- data[c(1:36,41:54),]"
   ]
  },
  {
   "cell_type": "markdown",
   "metadata": {},
   "source": [
    "The trend variable for implementation is begins at 5.  This needs to be restarted at 1."
   ]
  },
  {
   "cell_type": "code",
   "execution_count": 7,
   "metadata": {
    "collapsed": true
   },
   "outputs": [],
   "source": [
    "phased_data$imp_trend[37:50] <- phased_data$imp_trend[37:50] - 4"
   ]
  },
  {
   "cell_type": "markdown",
   "metadata": {},
   "source": [
    "### 2.1.1 Preliminary Modelling"
   ]
  },
  {
   "cell_type": "markdown",
   "metadata": {},
   "source": [
    "Initial model of the time series uses OLS.  Residuals of OLS are examined to identify GLS error model."
   ]
  },
  {
   "cell_type": "code",
   "execution_count": 8,
   "metadata": {},
   "outputs": [
    {
     "data": {
      "text/plain": [
       "\n",
       "Call:\n",
       "lm(formula = per_treated ~ time + or + or_trend + imp + imp_trend, \n",
       "    data = phased_data)\n",
       "\n",
       "Residuals:\n",
       "     Min       1Q   Median       3Q      Max \n",
       "-0.98653 -0.37002  0.00955  0.31969  0.94836 \n",
       "\n",
       "Coefficients:\n",
       "             Estimate Std. Error t value Pr(>|t|)    \n",
       "(Intercept) -3.643287   0.210558 -17.303   <2e-16 ***\n",
       "time         0.011471   0.014736   0.778   0.4405    \n",
       "or           0.236937   0.319962   0.741   0.4629    \n",
       "or_trend     0.005911   0.031487   0.188   0.8520    \n",
       "imp          0.256048   0.458585   0.558   0.5794    \n",
       "imp_trend    0.073254   0.040980   1.788   0.0807 .  \n",
       "---\n",
       "Signif. codes:  0 '***' 0.001 '**' 0.01 '*' 0.05 '.' 0.1 ' ' 1\n",
       "\n",
       "Residual standard error: 0.4997 on 44 degrees of freedom\n",
       "Multiple R-squared:  0.5794,\tAdjusted R-squared:  0.5316 \n",
       "F-statistic: 12.12 on 5 and 44 DF,  p-value: 2.07e-07\n"
      ]
     },
     "metadata": {},
     "output_type": "display_data"
    }
   ],
   "source": [
    "# A preliminary OLS regression\n",
    "model_ols <- lm(per_treated ~ time + or + or_trend + imp + imp_trend, data=phased_data)\n",
    "summary(model_ols)"
   ]
  },
  {
   "cell_type": "markdown",
   "metadata": {},
   "source": [
    "Remember when interpretting coefficients - dependent variables is logged!"
   ]
  },
  {
   "cell_type": "markdown",
   "metadata": {},
   "source": [
    "### 2.1.2 Error model identification"
   ]
  },
  {
   "cell_type": "code",
   "execution_count": 9,
   "metadata": {},
   "outputs": [
    {
     "data": {
      "image/png": "[encoded data removed]",
      "text/plain": [
       "Plot with title \"Series  residuals(model_ols)\""
      ]
     },
     "metadata": {},
     "output_type": "display_data"
    }
   ],
   "source": [
    "# Plot ACF and PACF\n",
    "# Set plotting to two records on one page\n",
    "par(mfrow=c(2,1))\n",
    "\n",
    "# Produce plots\n",
    "acf(residuals(model_ols))\n",
    "acf(residuals(model_ols),type='partial')"
   ]
  },
  {
   "cell_type": "markdown",
   "metadata": {},
   "source": [
    "Conclusion Try  AR(4) and MA(4); compare to simpler models"
   ]
  },
  {
   "cell_type": "markdown",
   "metadata": {},
   "source": [
    "## 2.2. GLS modelling"
   ]
  },
  {
   "cell_type": "code",
   "execution_count": 12,
   "metadata": {},
   "outputs": [
    {
     "data": {
      "text/plain": [
       "Generalized least squares fit by maximum likelihood\n",
       "  Model: per_treated ~ time + or + or_trend + imp + imp_trend \n",
       "  Data: phased_data \n",
       "       AIC      BIC    logLik\n",
       "  78.28534 99.31759 -28.14267\n",
       "\n",
       "Correlation Structure: ARMA(4,0)\n",
       " Formula: ~time \n",
       " Parameter estimate(s):\n",
       "      Phi1       Phi2       Phi3       Phi4 \n",
       "-0.3023680 -0.2190522 -0.1265742 -0.3394988 \n",
       "\n",
       "Coefficients:\n",
       "                Value Std.Error   t-value p-value\n",
       "(Intercept) -3.552159 0.1085625 -32.71995  0.0000\n",
       "time         0.004627 0.0077002   0.60086  0.5510\n",
       "or           0.374918 0.1986457   1.88737  0.0657\n",
       "or_trend     0.006466 0.0217067   0.29786  0.7672\n",
       "imp          0.323155 0.3490916   0.92570  0.3597\n",
       "imp_trend    0.087438 0.0264132   3.31040  0.0019\n",
       "\n",
       " Correlation: \n",
       "          (Intr) time   or     or_trn imp   \n",
       "time      -0.896                            \n",
       "or         0.357 -0.553                     \n",
       "or_trend   0.246 -0.241 -0.551              \n",
       "imp        0.057 -0.091  0.631 -0.888       \n",
       "imp_trend  0.046 -0.074  0.479 -0.566  0.430\n",
       "\n",
       "Standardized residuals:\n",
       "         Min           Q1          Med           Q3          Max \n",
       "-2.111735455 -0.932301304  0.009827163  0.719130888  1.981722250 \n",
       "\n",
       "Residual standard error: 0.4671059 \n",
       "Degrees of freedom: 50 total; 44 residual"
      ]
     },
     "metadata": {},
     "output_type": "display_data"
    },
    {
     "data": {
      "text/html": [
       "<table>\n",
       "<thead><tr><th></th><th scope=col>2.5 %</th><th scope=col>97.5 %</th></tr></thead>\n",
       "<tbody>\n",
       "\t<tr><th scope=row>(Intercept)</th><td>-3.76493742</td><td>-3.33938037</td></tr>\n",
       "\t<tr><th scope=row>time</th><td>-0.01046536</td><td> 0.01971894</td></tr>\n",
       "\t<tr><th scope=row>or</th><td>-0.01442086</td><td> 0.76425602</td></tr>\n",
       "\t<tr><th scope=row>or_trend</th><td>-0.03607881</td><td> 0.04901003</td></tr>\n",
       "\t<tr><th scope=row>imp</th><td>-0.36105246</td><td> 1.00736162</td></tr>\n",
       "\t<tr><th scope=row>imp_trend</th><td> 0.03566924</td><td> 0.13920717</td></tr>\n",
       "</tbody>\n",
       "</table>\n"
      ],
      "text/latex": [
       "\\begin{tabular}{r|ll}\n",
       "  & 2.5 \\% & 97.5 \\%\\\\\n",
       "\\hline\n",
       "\t(Intercept) & -3.76493742 & -3.33938037\\\\\n",
       "\ttime & -0.01046536 &  0.01971894\\\\\n",
       "\tor & -0.01442086 &  0.76425602\\\\\n",
       "\tor\\_trend & -0.03607881 &  0.04901003\\\\\n",
       "\timp & -0.36105246 &  1.00736162\\\\\n",
       "\timp\\_trend &  0.03566924 &  0.13920717\\\\\n",
       "\\end{tabular}\n"
      ],
      "text/markdown": [
       "\n",
       "| <!--/--> | 2.5 % | 97.5 % | \n",
       "|---|---|---|---|---|---|\n",
       "| (Intercept) | -3.76493742 | -3.33938037 | \n",
       "| time | -0.01046536 |  0.01971894 | \n",
       "| or | -0.01442086 |  0.76425602 | \n",
       "| or_trend | -0.03607881 |  0.04901003 | \n",
       "| imp | -0.36105246 |  1.00736162 | \n",
       "| imp_trend |  0.03566924 |  0.13920717 | \n",
       "\n",
       "\n"
      ],
      "text/plain": [
       "            2.5 %       97.5 %     \n",
       "(Intercept) -3.76493742 -3.33938037\n",
       "time        -0.01046536  0.01971894\n",
       "or          -0.01442086  0.76425602\n",
       "or_trend    -0.03607881  0.04901003\n",
       "imp         -0.36105246  1.00736162\n",
       "imp_trend    0.03566924  0.13920717"
      ]
     },
     "metadata": {},
     "output_type": "display_data"
    }
   ],
   "source": [
    "# Fit the GLS regression model\n",
    "gls_m1<- gls(per_treated ~ time + or + or_trend + imp + imp_trend,\n",
    "  data=phased_data,\n",
    "  correlation=corARMA(p=4,form=~time),\n",
    "  method=\"ML\")\n",
    "summary(gls_m1)\n",
    "confint(gls_m1)"
   ]
  },
  {
   "cell_type": "code",
   "execution_count": 13,
   "metadata": {},
   "outputs": [
    {
     "data": {
      "text/html": [
       "<table>\n",
       "<thead><tr><th></th><th scope=col>call</th><th scope=col>Model</th><th scope=col>df</th><th scope=col>AIC</th><th scope=col>BIC</th><th scope=col>logLik</th></tr></thead>\n",
       "<tbody>\n",
       "\t<tr><th scope=row>gls_m1</th><td>gls(model = per_treated ~ time + or + or_trend + imp + imp_trend,     data = phased_data, correlation = corARMA(p = 4, form = ~time),     method = \"ML\")</td><td>1                                                                                                                                                       </td><td>11                                                                                                                                                      </td><td>78.28534                                                                                                                                                </td><td>99.31759                                                                                                                                                </td><td>-28.14267                                                                                                                                               </td></tr>\n",
       "\t<tr><th scope=row>gls_m2</th><td>gls(model = per_treated ~ time + or + or_trend + imp + imp_trend,     data = phased_data, correlation = corARMA(q = 4, form = ~time),     method = \"ML\")</td><td>2                                                                                                                                                       </td><td>11                                                                                                                                                      </td><td>71.72262                                                                                                                                                </td><td>92.75487                                                                                                                                                </td><td>-24.86131                                                                                                                                               </td></tr>\n",
       "</tbody>\n",
       "</table>\n"
      ],
      "text/latex": [
       "\\begin{tabular}{r|llllll}\n",
       "  & call & Model & df & AIC & BIC & logLik\\\\\n",
       "\\hline\n",
       "\tgls\\_m1 & gls(model = per\\_treated \\textasciitilde{} time + or + or\\_trend + imp + imp\\_trend,     data = phased\\_data, correlation = corARMA(p = 4, form = \\textasciitilde{}time),     method = \"ML\") & 1                                                                                                                                                                                                  & 11                                                                                                                                                                                                 & 78.28534                                                                                                                                                                                           & 99.31759                                                                                                                                                                                           & -28.14267                                                                                                                                                                                         \\\\\n",
       "\tgls\\_m2 & gls(model = per\\_treated \\textasciitilde{} time + or + or\\_trend + imp + imp\\_trend,     data = phased\\_data, correlation = corARMA(q = 4, form = \\textasciitilde{}time),     method = \"ML\") & 2                                                                                                                                                                                                  & 11                                                                                                                                                                                                 & 71.72262                                                                                                                                                                                           & 92.75487                                                                                                                                                                                           & -24.86131                                                                                                                                                                                         \\\\\n",
       "\\end{tabular}\n"
      ],
      "text/markdown": [
       "\n",
       "| <!--/--> | call | Model | df | AIC | BIC | logLik | \n",
       "|---|---|\n",
       "| gls_m1 | gls(model = per_treated ~ time + or + or_trend + imp + imp_trend,     data = phased_data, correlation = corARMA(p = 4, form = ~time),     method = \"ML\") | 1                                                                                                                                                        | 11                                                                                                                                                       | 78.28534                                                                                                                                                 | 99.31759                                                                                                                                                 | -28.14267                                                                                                                                                | \n",
       "| gls_m2 | gls(model = per_treated ~ time + or + or_trend + imp + imp_trend,     data = phased_data, correlation = corARMA(q = 4, form = ~time),     method = \"ML\") | 2                                                                                                                                                        | 11                                                                                                                                                       | 71.72262                                                                                                                                                 | 92.75487                                                                                                                                                 | -24.86131                                                                                                                                                | \n",
       "\n",
       "\n"
      ],
      "text/plain": [
       "       call                                                                                                                                                    \n",
       "gls_m1 gls(model = per_treated ~ time + or + or_trend + imp + imp_trend,     data = phased_data, correlation = corARMA(p = 4, form = ~time),     method = \"ML\")\n",
       "gls_m2 gls(model = per_treated ~ time + or + or_trend + imp + imp_trend,     data = phased_data, correlation = corARMA(q = 4, form = ~time),     method = \"ML\")\n",
       "       Model df AIC      BIC      logLik   \n",
       "gls_m1 1     11 78.28534 99.31759 -28.14267\n",
       "gls_m2 2     11 71.72262 92.75487 -24.86131"
      ]
     },
     "metadata": {},
     "output_type": "display_data"
    }
   ],
   "source": [
    "gls_m2 <- update(gls_m1,correlation=corARMA(q=4, form=~time))\n",
    "anova(gls_m1,gls_m2)"
   ]
  },
  {
   "cell_type": "markdown",
   "metadata": {},
   "source": [
    "Conclusion.  AIC of ARMA(1,1) is lower and significant.  Check sensitivity of results."
   ]
  },
  {
   "cell_type": "code",
   "execution_count": 14,
   "metadata": {
    "collapsed": true
   },
   "outputs": [],
   "source": [
    "model_final = gls_m2"
   ]
  },
  {
   "cell_type": "code",
   "execution_count": 15,
   "metadata": {},
   "outputs": [
    {
     "data": {
      "text/plain": [
       "Generalized least squares fit by maximum likelihood\n",
       "  Model: per_treated ~ time + or + or_trend + imp + imp_trend \n",
       "  Data: phased_data \n",
       "       AIC      BIC    logLik\n",
       "  71.72262 92.75487 -24.86131\n",
       "\n",
       "Correlation Structure: ARMA(0,4)\n",
       " Formula: ~time \n",
       " Parameter estimate(s):\n",
       "     Theta1      Theta2      Theta3      Theta4 \n",
       "-0.50019608 -0.10628276 -0.05190258 -0.34160518 \n",
       "\n",
       "Coefficients:\n",
       "                Value Std.Error   t-value p-value\n",
       "(Intercept) -3.536434 0.0820388 -43.10687  0.0000\n",
       "time         0.003360 0.0062340   0.53905  0.5926\n",
       "or           0.407306 0.1916370   2.12540  0.0392\n",
       "or_trend     0.004495 0.0201174   0.22344  0.8242\n",
       "imp          0.380030 0.3434848   1.10640  0.2746\n",
       "imp_trend    0.087699 0.0261089   3.35899  0.0016\n",
       "\n",
       " Correlation: \n",
       "          (Intr) time   or     or_trn imp   \n",
       "time      -0.965                            \n",
       "or         0.530 -0.667                     \n",
       "or_trend   0.110 -0.033 -0.657              \n",
       "imp        0.129 -0.189  0.729 -0.940       \n",
       "imp_trend  0.114 -0.167  0.486 -0.530  0.394\n",
       "\n",
       "Standardized residuals:\n",
       "         Min           Q1          Med           Q3          Max \n",
       "-2.222412513 -0.999186826  0.007020907  0.767537027  2.064830487 \n",
       "\n",
       "Residual standard error: 0.4468227 \n",
       "Degrees of freedom: 50 total; 44 residual"
      ]
     },
     "metadata": {},
     "output_type": "display_data"
    }
   ],
   "source": [
    "summary(model_final)"
   ]
  },
  {
   "cell_type": "code",
   "execution_count": 16,
   "metadata": {},
   "outputs": [
    {
     "data": {
      "text/html": [
       "<strong>imp_trend:</strong> 9.16599602487909"
      ],
      "text/latex": [
       "\\textbf{imp\\textbackslash{}\\_trend:} 9.16599602487909"
      ],
      "text/markdown": [
       "**imp_trend:** 9.16599602487909"
      ],
      "text/plain": [
       "imp_trend \n",
       " 9.165996 "
      ]
     },
     "metadata": {},
     "output_type": "display_data"
    }
   ],
   "source": [
    "(exp(model_final$coef[6])-1) * 100"
   ]
  },
  {
   "cell_type": "code",
   "execution_count": 18,
   "metadata": {},
   "outputs": [
    {
     "data": {
      "text/html": [
       "<table>\n",
       "<thead><tr><th scope=col>year</th><th scope=col>month</th><th scope=col>per_treated</th><th scope=col>time</th><th scope=col>or</th><th scope=col>or_trend</th><th scope=col>imp</th><th scope=col>imp_trend</th><th scope=col>per_treated2</th><th scope=col>lag1_treat_ln</th></tr></thead>\n",
       "<tbody>\n",
       "\t<tr><td>2009      </td><td> 1        </td><td>-3.970292 </td><td> 1        </td><td>0         </td><td> 0        </td><td>0         </td><td> 0        </td><td>0.01886793</td><td> 0.000000 </td></tr>\n",
       "\t<tr><td>2009      </td><td> 2        </td><td>-3.496508 </td><td> 2        </td><td>0         </td><td> 0        </td><td>0         </td><td> 0        </td><td>0.03030303</td><td> 0.000000 </td></tr>\n",
       "\t<tr><td>2009      </td><td> 3        </td><td>-3.970292 </td><td> 3        </td><td>0         </td><td> 0        </td><td>0         </td><td> 0        </td><td>0.01886793</td><td> 0.000000 </td></tr>\n",
       "\t<tr><td>2009      </td><td> 4        </td><td>-3.970292 </td><td> 4        </td><td>0         </td><td> 0        </td><td>0         </td><td> 0        </td><td>0.01886793</td><td> 0.000000 </td></tr>\n",
       "\t<tr><td>2009      </td><td> 5        </td><td>-2.803360 </td><td> 5        </td><td>0         </td><td> 0        </td><td>0         </td><td> 0        </td><td>0.06060606</td><td> 0.000000 </td></tr>\n",
       "\t<tr><td>2009      </td><td> 6        </td><td>-3.970292 </td><td> 6        </td><td>0         </td><td> 0        </td><td>0         </td><td> 0        </td><td>0.01886793</td><td> 0.000000 </td></tr>\n",
       "\t<tr><td>2009      </td><td> 7        </td><td>-3.091042 </td><td> 7        </td><td>0         </td><td> 0        </td><td>0         </td><td> 0        </td><td>0.04545454</td><td> 0.000000 </td></tr>\n",
       "\t<tr><td>2009      </td><td> 8        </td><td>-3.091042 </td><td> 8        </td><td>0         </td><td> 0        </td><td>0         </td><td> 0        </td><td>0.04545454</td><td> 0.000000 </td></tr>\n",
       "\t<tr><td>2009      </td><td> 9        </td><td>-3.970292 </td><td> 9        </td><td>0         </td><td> 0        </td><td>0         </td><td> 0        </td><td>0.01886793</td><td> 0.000000 </td></tr>\n",
       "\t<tr><td>2009      </td><td>10        </td><td>-2.580217 </td><td>10        </td><td>0         </td><td> 0        </td><td>0         </td><td> 0        </td><td>0.07575758</td><td> 0.000000 </td></tr>\n",
       "\t<tr><td>2009      </td><td>11        </td><td>-3.091042 </td><td>11        </td><td>0         </td><td> 0        </td><td>0         </td><td> 0        </td><td>0.04545454</td><td> 0.000000 </td></tr>\n",
       "\t<tr><td>2009      </td><td>12        </td><td>-4.189655 </td><td>12        </td><td>0         </td><td> 0        </td><td>0         </td><td> 0        </td><td>0.01515152</td><td> 0.000000 </td></tr>\n",
       "\t<tr><td>2010      </td><td> 1        </td><td>-3.496508 </td><td>13        </td><td>0         </td><td> 0        </td><td>0         </td><td> 0        </td><td>0.03030303</td><td> 0.000000 </td></tr>\n",
       "\t<tr><td>2010      </td><td> 2        </td><td>-3.970292 </td><td>14        </td><td>0         </td><td> 0        </td><td>0         </td><td> 0        </td><td>0.01886793</td><td> 0.000000 </td></tr>\n",
       "\t<tr><td>2010      </td><td> 3        </td><td>-4.189655 </td><td>15        </td><td>0         </td><td> 0        </td><td>0         </td><td> 0        </td><td>0.01515152</td><td> 0.000000 </td></tr>\n",
       "\t<tr><td>2010      </td><td> 4        </td><td>-2.803360 </td><td>16        </td><td>0         </td><td> 0        </td><td>0         </td><td> 0        </td><td>0.06060606</td><td> 0.000000 </td></tr>\n",
       "\t<tr><td>2010      </td><td> 5        </td><td>-2.803360 </td><td>17        </td><td>0         </td><td> 0        </td><td>0         </td><td> 0        </td><td>0.06060606</td><td> 0.000000 </td></tr>\n",
       "\t<tr><td>2010      </td><td> 6        </td><td>-3.496508 </td><td>18        </td><td>0         </td><td> 0        </td><td>0         </td><td> 0        </td><td>0.03030303</td><td> 0.000000 </td></tr>\n",
       "\t<tr><td>2010      </td><td> 7        </td><td>-4.189655 </td><td>19        </td><td>0         </td><td> 0        </td><td>0         </td><td> 0        </td><td>0.01515152</td><td> 0.000000 </td></tr>\n",
       "\t<tr><td>2010      </td><td> 8        </td><td>-3.091042 </td><td>20        </td><td>0         </td><td> 0        </td><td>0         </td><td> 0        </td><td>0.04545454</td><td> 0.000000 </td></tr>\n",
       "\t<tr><td>2010      </td><td> 9        </td><td>-4.189655 </td><td>21        </td><td>0         </td><td> 0        </td><td>0         </td><td> 0        </td><td>0.01515152</td><td> 0.000000 </td></tr>\n",
       "\t<tr><td>2010      </td><td>10        </td><td>-3.496508 </td><td>22        </td><td>0         </td><td> 0        </td><td>0         </td><td> 0        </td><td>0.03030303</td><td> 0.000000 </td></tr>\n",
       "\t<tr><td>2010      </td><td>11        </td><td>-3.496508 </td><td>23        </td><td>0         </td><td> 0        </td><td>0         </td><td> 0        </td><td>0.03030303</td><td> 0.000000 </td></tr>\n",
       "\t<tr><td>2010      </td><td>12        </td><td>-2.580217 </td><td>24        </td><td>0         </td><td> 0        </td><td>0         </td><td> 0        </td><td>0.07575758</td><td> 0.000000 </td></tr>\n",
       "\t<tr><td>2011      </td><td> 1        </td><td>-2.803360 </td><td>25        </td><td>1         </td><td> 1        </td><td>0         </td><td> 0        </td><td>0.06060606</td><td> 0.000000 </td></tr>\n",
       "\t<tr><td>2011      </td><td> 2        </td><td>-3.496508 </td><td>26        </td><td>1         </td><td> 2        </td><td>0         </td><td> 0        </td><td>0.03030303</td><td> 0.000000 </td></tr>\n",
       "\t<tr><td>2011      </td><td> 3        </td><td>-2.803360 </td><td>27        </td><td>1         </td><td> 3        </td><td>0         </td><td> 0        </td><td>0.06060606</td><td> 0.000000 </td></tr>\n",
       "\t<tr><td>2011      </td><td> 4        </td><td>-3.496508 </td><td>28        </td><td>1         </td><td> 4        </td><td>0         </td><td> 0        </td><td>0.03030303</td><td> 0.000000 </td></tr>\n",
       "\t<tr><td>2011      </td><td> 5        </td><td>-2.803360 </td><td>29        </td><td>1         </td><td> 5        </td><td>0         </td><td> 0        </td><td>0.06060606</td><td> 0.000000 </td></tr>\n",
       "\t<tr><td>2011      </td><td> 6        </td><td>-3.496508 </td><td>30        </td><td>1         </td><td> 6        </td><td>0         </td><td> 0        </td><td>0.03030303</td><td> 0.000000 </td></tr>\n",
       "\t<tr><td>2011      </td><td> 7        </td><td>-2.803360 </td><td>31        </td><td>1         </td><td> 7        </td><td>0         </td><td> 0        </td><td>0.06060606</td><td> 0.000000 </td></tr>\n",
       "\t<tr><td>2011      </td><td> 8        </td><td>-2.803360 </td><td>32        </td><td>1         </td><td> 8        </td><td>0         </td><td> 0        </td><td>0.06060606</td><td> 0.000000 </td></tr>\n",
       "\t<tr><td>2011      </td><td> 9        </td><td>-2.580217 </td><td>33        </td><td>1         </td><td> 9        </td><td>0         </td><td> 0        </td><td>0.07575758</td><td> 0.000000 </td></tr>\n",
       "\t<tr><td>2011      </td><td>10        </td><td>-3.091042 </td><td>34        </td><td>1         </td><td>10        </td><td>0         </td><td> 0        </td><td>0.04545454</td><td> 0.000000 </td></tr>\n",
       "\t<tr><td>2011      </td><td>11        </td><td>-2.580217 </td><td>35        </td><td>1         </td><td>11        </td><td>0         </td><td> 0        </td><td>0.07575758</td><td> 0.000000 </td></tr>\n",
       "\t<tr><td>2011      </td><td>12        </td><td>-3.496508 </td><td>36        </td><td>1         </td><td>12        </td><td>0         </td><td> 0        </td><td>0.03030303</td><td> 0.000000 </td></tr>\n",
       "\t<tr><td>2012      </td><td> 1        </td><td>-3.091042 </td><td>37        </td><td>1         </td><td>13        </td><td>0         </td><td> 0        </td><td>0.04545454</td><td> 0.000000 </td></tr>\n",
       "\t<tr><td>2012      </td><td> 2        </td><td>-4.189655 </td><td>38        </td><td>1         </td><td>14        </td><td>0         </td><td> 0        </td><td>0.01515152</td><td> 0.000000 </td></tr>\n",
       "\t<tr><td>2012      </td><td> 3        </td><td>-2.110213 </td><td>39        </td><td>1         </td><td>15        </td><td>0         </td><td> 0        </td><td>0.12121212</td><td> 0.000000 </td></tr>\n",
       "\t<tr><td>2012      </td><td> 4        </td><td>-3.496508 </td><td>40        </td><td>1         </td><td>16        </td><td>0         </td><td> 0        </td><td>0.03030303</td><td> 0.000000 </td></tr>\n",
       "\t<tr><td>2012      </td><td> 5        </td><td>-3.091042 </td><td>41        </td><td>1         </td><td>17        </td><td>0         </td><td> 0        </td><td>0.04545454</td><td> 0.000000 </td></tr>\n",
       "\t<tr><td>2012      </td><td> 6        </td><td>-3.091042 </td><td>42        </td><td>1         </td><td>18        </td><td>1         </td><td> 1        </td><td>0.04545454</td><td>-3.091042 </td></tr>\n",
       "\t<tr><td>2012      </td><td> 7        </td><td>-2.580217 </td><td>43        </td><td>1         </td><td>19        </td><td>1         </td><td> 2        </td><td>0.07575758</td><td>-3.091042 </td></tr>\n",
       "\t<tr><td>2012      </td><td> 8        </td><td>-1.791759 </td><td>44        </td><td>1         </td><td>20        </td><td>1         </td><td> 3        </td><td>0.16666667</td><td>-2.580217 </td></tr>\n",
       "\t<tr><td>2012      </td><td> 9        </td><td>-3.496508 </td><td>45        </td><td>1         </td><td>21        </td><td>1         </td><td> 4        </td><td>0.03030303</td><td>-1.791759 </td></tr>\n",
       "\t<tr><td>2012      </td><td>10        </td><td>-2.397895 </td><td>46        </td><td>1         </td><td>22        </td><td>1         </td><td> 5        </td><td>0.09090909</td><td>-3.496508 </td></tr>\n",
       "\t<tr><td>2012      </td><td>11        </td><td>-2.397895 </td><td>47        </td><td>1         </td><td>23        </td><td>1         </td><td> 6        </td><td>0.09090909</td><td>-2.397895 </td></tr>\n",
       "\t<tr><td>2012      </td><td>12        </td><td>-2.397895 </td><td>48        </td><td>1         </td><td>24        </td><td>1         </td><td> 7        </td><td>0.09090909</td><td>-2.397895 </td></tr>\n",
       "\t<tr><td>2013      </td><td> 1        </td><td>-1.386294 </td><td>49        </td><td>1         </td><td>25        </td><td>1         </td><td> 8        </td><td>0.25000000</td><td>-2.397895 </td></tr>\n",
       "\t<tr><td>2013      </td><td> 2        </td><td>-1.916923 </td><td>50        </td><td>1         </td><td>26        </td><td>1         </td><td> 9        </td><td>0.14705882</td><td>-1.386294 </td></tr>\n",
       "\t<tr><td>2013      </td><td> 3        </td><td>-1.821612 </td><td>51        </td><td>1         </td><td>27        </td><td>1         </td><td>10        </td><td>0.16176471</td><td>-1.916923 </td></tr>\n",
       "\t<tr><td>2013      </td><td> 4        </td><td>-2.140066 </td><td>52        </td><td>1         </td><td>28        </td><td>1         </td><td>11        </td><td>0.11764706</td><td>-1.821612 </td></tr>\n",
       "\t<tr><td>2013      </td><td> 5        </td><td>-1.654558 </td><td>53        </td><td>1         </td><td>29        </td><td>1         </td><td>12        </td><td>0.19117647</td><td>-2.140066 </td></tr>\n",
       "\t<tr><td>2013      </td><td> 6        </td><td>-2.022283 </td><td>54        </td><td>1         </td><td>30        </td><td>1         </td><td>13        </td><td>0.13235294</td><td>-1.654558 </td></tr>\n",
       "</tbody>\n",
       "</table>\n"
      ],
      "text/latex": [
       "\\begin{tabular}{r|llllllllll}\n",
       " year & month & per\\_treated & time & or & or\\_trend & imp & imp\\_trend & per\\_treated2 & lag1\\_treat\\_ln\\\\\n",
       "\\hline\n",
       "\t 2009       &  1         & -3.970292  &  1         & 0          &  0         & 0          &  0         & 0.01886793 &  0.000000 \\\\\n",
       "\t 2009       &  2         & -3.496508  &  2         & 0          &  0         & 0          &  0         & 0.03030303 &  0.000000 \\\\\n",
       "\t 2009       &  3         & -3.970292  &  3         & 0          &  0         & 0          &  0         & 0.01886793 &  0.000000 \\\\\n",
       "\t 2009       &  4         & -3.970292  &  4         & 0          &  0         & 0          &  0         & 0.01886793 &  0.000000 \\\\\n",
       "\t 2009       &  5         & -2.803360  &  5         & 0          &  0         & 0          &  0         & 0.06060606 &  0.000000 \\\\\n",
       "\t 2009       &  6         & -3.970292  &  6         & 0          &  0         & 0          &  0         & 0.01886793 &  0.000000 \\\\\n",
       "\t 2009       &  7         & -3.091042  &  7         & 0          &  0         & 0          &  0         & 0.04545454 &  0.000000 \\\\\n",
       "\t 2009       &  8         & -3.091042  &  8         & 0          &  0         & 0          &  0         & 0.04545454 &  0.000000 \\\\\n",
       "\t 2009       &  9         & -3.970292  &  9         & 0          &  0         & 0          &  0         & 0.01886793 &  0.000000 \\\\\n",
       "\t 2009       & 10         & -2.580217  & 10         & 0          &  0         & 0          &  0         & 0.07575758 &  0.000000 \\\\\n",
       "\t 2009       & 11         & -3.091042  & 11         & 0          &  0         & 0          &  0         & 0.04545454 &  0.000000 \\\\\n",
       "\t 2009       & 12         & -4.189655  & 12         & 0          &  0         & 0          &  0         & 0.01515152 &  0.000000 \\\\\n",
       "\t 2010       &  1         & -3.496508  & 13         & 0          &  0         & 0          &  0         & 0.03030303 &  0.000000 \\\\\n",
       "\t 2010       &  2         & -3.970292  & 14         & 0          &  0         & 0          &  0         & 0.01886793 &  0.000000 \\\\\n",
       "\t 2010       &  3         & -4.189655  & 15         & 0          &  0         & 0          &  0         & 0.01515152 &  0.000000 \\\\\n",
       "\t 2010       &  4         & -2.803360  & 16         & 0          &  0         & 0          &  0         & 0.06060606 &  0.000000 \\\\\n",
       "\t 2010       &  5         & -2.803360  & 17         & 0          &  0         & 0          &  0         & 0.06060606 &  0.000000 \\\\\n",
       "\t 2010       &  6         & -3.496508  & 18         & 0          &  0         & 0          &  0         & 0.03030303 &  0.000000 \\\\\n",
       "\t 2010       &  7         & -4.189655  & 19         & 0          &  0         & 0          &  0         & 0.01515152 &  0.000000 \\\\\n",
       "\t 2010       &  8         & -3.091042  & 20         & 0          &  0         & 0          &  0         & 0.04545454 &  0.000000 \\\\\n",
       "\t 2010       &  9         & -4.189655  & 21         & 0          &  0         & 0          &  0         & 0.01515152 &  0.000000 \\\\\n",
       "\t 2010       & 10         & -3.496508  & 22         & 0          &  0         & 0          &  0         & 0.03030303 &  0.000000 \\\\\n",
       "\t 2010       & 11         & -3.496508  & 23         & 0          &  0         & 0          &  0         & 0.03030303 &  0.000000 \\\\\n",
       "\t 2010       & 12         & -2.580217  & 24         & 0          &  0         & 0          &  0         & 0.07575758 &  0.000000 \\\\\n",
       "\t 2011       &  1         & -2.803360  & 25         & 1          &  1         & 0          &  0         & 0.06060606 &  0.000000 \\\\\n",
       "\t 2011       &  2         & -3.496508  & 26         & 1          &  2         & 0          &  0         & 0.03030303 &  0.000000 \\\\\n",
       "\t 2011       &  3         & -2.803360  & 27         & 1          &  3         & 0          &  0         & 0.06060606 &  0.000000 \\\\\n",
       "\t 2011       &  4         & -3.496508  & 28         & 1          &  4         & 0          &  0         & 0.03030303 &  0.000000 \\\\\n",
       "\t 2011       &  5         & -2.803360  & 29         & 1          &  5         & 0          &  0         & 0.06060606 &  0.000000 \\\\\n",
       "\t 2011       &  6         & -3.496508  & 30         & 1          &  6         & 0          &  0         & 0.03030303 &  0.000000 \\\\\n",
       "\t 2011       &  7         & -2.803360  & 31         & 1          &  7         & 0          &  0         & 0.06060606 &  0.000000 \\\\\n",
       "\t 2011       &  8         & -2.803360  & 32         & 1          &  8         & 0          &  0         & 0.06060606 &  0.000000 \\\\\n",
       "\t 2011       &  9         & -2.580217  & 33         & 1          &  9         & 0          &  0         & 0.07575758 &  0.000000 \\\\\n",
       "\t 2011       & 10         & -3.091042  & 34         & 1          & 10         & 0          &  0         & 0.04545454 &  0.000000 \\\\\n",
       "\t 2011       & 11         & -2.580217  & 35         & 1          & 11         & 0          &  0         & 0.07575758 &  0.000000 \\\\\n",
       "\t 2011       & 12         & -3.496508  & 36         & 1          & 12         & 0          &  0         & 0.03030303 &  0.000000 \\\\\n",
       "\t 2012       &  1         & -3.091042  & 37         & 1          & 13         & 0          &  0         & 0.04545454 &  0.000000 \\\\\n",
       "\t 2012       &  2         & -4.189655  & 38         & 1          & 14         & 0          &  0         & 0.01515152 &  0.000000 \\\\\n",
       "\t 2012       &  3         & -2.110213  & 39         & 1          & 15         & 0          &  0         & 0.12121212 &  0.000000 \\\\\n",
       "\t 2012       &  4         & -3.496508  & 40         & 1          & 16         & 0          &  0         & 0.03030303 &  0.000000 \\\\\n",
       "\t 2012       &  5         & -3.091042  & 41         & 1          & 17         & 0          &  0         & 0.04545454 &  0.000000 \\\\\n",
       "\t 2012       &  6         & -3.091042  & 42         & 1          & 18         & 1          &  1         & 0.04545454 & -3.091042 \\\\\n",
       "\t 2012       &  7         & -2.580217  & 43         & 1          & 19         & 1          &  2         & 0.07575758 & -3.091042 \\\\\n",
       "\t 2012       &  8         & -1.791759  & 44         & 1          & 20         & 1          &  3         & 0.16666667 & -2.580217 \\\\\n",
       "\t 2012       &  9         & -3.496508  & 45         & 1          & 21         & 1          &  4         & 0.03030303 & -1.791759 \\\\\n",
       "\t 2012       & 10         & -2.397895  & 46         & 1          & 22         & 1          &  5         & 0.09090909 & -3.496508 \\\\\n",
       "\t 2012       & 11         & -2.397895  & 47         & 1          & 23         & 1          &  6         & 0.09090909 & -2.397895 \\\\\n",
       "\t 2012       & 12         & -2.397895  & 48         & 1          & 24         & 1          &  7         & 0.09090909 & -2.397895 \\\\\n",
       "\t 2013       &  1         & -1.386294  & 49         & 1          & 25         & 1          &  8         & 0.25000000 & -2.397895 \\\\\n",
       "\t 2013       &  2         & -1.916923  & 50         & 1          & 26         & 1          &  9         & 0.14705882 & -1.386294 \\\\\n",
       "\t 2013       &  3         & -1.821612  & 51         & 1          & 27         & 1          & 10         & 0.16176471 & -1.916923 \\\\\n",
       "\t 2013       &  4         & -2.140066  & 52         & 1          & 28         & 1          & 11         & 0.11764706 & -1.821612 \\\\\n",
       "\t 2013       &  5         & -1.654558  & 53         & 1          & 29         & 1          & 12         & 0.19117647 & -2.140066 \\\\\n",
       "\t 2013       &  6         & -2.022283  & 54         & 1          & 30         & 1          & 13         & 0.13235294 & -1.654558 \\\\\n",
       "\\end{tabular}\n"
      ],
      "text/markdown": [
       "\n",
       "year | month | per_treated | time | or | or_trend | imp | imp_trend | per_treated2 | lag1_treat_ln | \n",
       "|---|---|---|---|---|---|---|---|---|---|---|---|---|---|---|---|---|---|---|---|---|---|---|---|---|---|---|---|---|---|---|---|---|---|---|---|---|---|---|---|---|---|---|---|---|---|---|---|---|---|---|---|---|---|\n",
       "| 2009       |  1         | -3.970292  |  1         | 0          |  0         | 0          |  0         | 0.01886793 |  0.000000  | \n",
       "| 2009       |  2         | -3.496508  |  2         | 0          |  0         | 0          |  0         | 0.03030303 |  0.000000  | \n",
       "| 2009       |  3         | -3.970292  |  3         | 0          |  0         | 0          |  0         | 0.01886793 |  0.000000  | \n",
       "| 2009       |  4         | -3.970292  |  4         | 0          |  0         | 0          |  0         | 0.01886793 |  0.000000  | \n",
       "| 2009       |  5         | -2.803360  |  5         | 0          |  0         | 0          |  0         | 0.06060606 |  0.000000  | \n",
       "| 2009       |  6         | -3.970292  |  6         | 0          |  0         | 0          |  0         | 0.01886793 |  0.000000  | \n",
       "| 2009       |  7         | -3.091042  |  7         | 0          |  0         | 0          |  0         | 0.04545454 |  0.000000  | \n",
       "| 2009       |  8         | -3.091042  |  8         | 0          |  0         | 0          |  0         | 0.04545454 |  0.000000  | \n",
       "| 2009       |  9         | -3.970292  |  9         | 0          |  0         | 0          |  0         | 0.01886793 |  0.000000  | \n",
       "| 2009       | 10         | -2.580217  | 10         | 0          |  0         | 0          |  0         | 0.07575758 |  0.000000  | \n",
       "| 2009       | 11         | -3.091042  | 11         | 0          |  0         | 0          |  0         | 0.04545454 |  0.000000  | \n",
       "| 2009       | 12         | -4.189655  | 12         | 0          |  0         | 0          |  0         | 0.01515152 |  0.000000  | \n",
       "| 2010       |  1         | -3.496508  | 13         | 0          |  0         | 0          |  0         | 0.03030303 |  0.000000  | \n",
       "| 2010       |  2         | -3.970292  | 14         | 0          |  0         | 0          |  0         | 0.01886793 |  0.000000  | \n",
       "| 2010       |  3         | -4.189655  | 15         | 0          |  0         | 0          |  0         | 0.01515152 |  0.000000  | \n",
       "| 2010       |  4         | -2.803360  | 16         | 0          |  0         | 0          |  0         | 0.06060606 |  0.000000  | \n",
       "| 2010       |  5         | -2.803360  | 17         | 0          |  0         | 0          |  0         | 0.06060606 |  0.000000  | \n",
       "| 2010       |  6         | -3.496508  | 18         | 0          |  0         | 0          |  0         | 0.03030303 |  0.000000  | \n",
       "| 2010       |  7         | -4.189655  | 19         | 0          |  0         | 0          |  0         | 0.01515152 |  0.000000  | \n",
       "| 2010       |  8         | -3.091042  | 20         | 0          |  0         | 0          |  0         | 0.04545454 |  0.000000  | \n",
       "| 2010       |  9         | -4.189655  | 21         | 0          |  0         | 0          |  0         | 0.01515152 |  0.000000  | \n",
       "| 2010       | 10         | -3.496508  | 22         | 0          |  0         | 0          |  0         | 0.03030303 |  0.000000  | \n",
       "| 2010       | 11         | -3.496508  | 23         | 0          |  0         | 0          |  0         | 0.03030303 |  0.000000  | \n",
       "| 2010       | 12         | -2.580217  | 24         | 0          |  0         | 0          |  0         | 0.07575758 |  0.000000  | \n",
       "| 2011       |  1         | -2.803360  | 25         | 1          |  1         | 0          |  0         | 0.06060606 |  0.000000  | \n",
       "| 2011       |  2         | -3.496508  | 26         | 1          |  2         | 0          |  0         | 0.03030303 |  0.000000  | \n",
       "| 2011       |  3         | -2.803360  | 27         | 1          |  3         | 0          |  0         | 0.06060606 |  0.000000  | \n",
       "| 2011       |  4         | -3.496508  | 28         | 1          |  4         | 0          |  0         | 0.03030303 |  0.000000  | \n",
       "| 2011       |  5         | -2.803360  | 29         | 1          |  5         | 0          |  0         | 0.06060606 |  0.000000  | \n",
       "| 2011       |  6         | -3.496508  | 30         | 1          |  6         | 0          |  0         | 0.03030303 |  0.000000  | \n",
       "| 2011       |  7         | -2.803360  | 31         | 1          |  7         | 0          |  0         | 0.06060606 |  0.000000  | \n",
       "| 2011       |  8         | -2.803360  | 32         | 1          |  8         | 0          |  0         | 0.06060606 |  0.000000  | \n",
       "| 2011       |  9         | -2.580217  | 33         | 1          |  9         | 0          |  0         | 0.07575758 |  0.000000  | \n",
       "| 2011       | 10         | -3.091042  | 34         | 1          | 10         | 0          |  0         | 0.04545454 |  0.000000  | \n",
       "| 2011       | 11         | -2.580217  | 35         | 1          | 11         | 0          |  0         | 0.07575758 |  0.000000  | \n",
       "| 2011       | 12         | -3.496508  | 36         | 1          | 12         | 0          |  0         | 0.03030303 |  0.000000  | \n",
       "| 2012       |  1         | -3.091042  | 37         | 1          | 13         | 0          |  0         | 0.04545454 |  0.000000  | \n",
       "| 2012       |  2         | -4.189655  | 38         | 1          | 14         | 0          |  0         | 0.01515152 |  0.000000  | \n",
       "| 2012       |  3         | -2.110213  | 39         | 1          | 15         | 0          |  0         | 0.12121212 |  0.000000  | \n",
       "| 2012       |  4         | -3.496508  | 40         | 1          | 16         | 0          |  0         | 0.03030303 |  0.000000  | \n",
       "| 2012       |  5         | -3.091042  | 41         | 1          | 17         | 0          |  0         | 0.04545454 |  0.000000  | \n",
       "| 2012       |  6         | -3.091042  | 42         | 1          | 18         | 1          |  1         | 0.04545454 | -3.091042  | \n",
       "| 2012       |  7         | -2.580217  | 43         | 1          | 19         | 1          |  2         | 0.07575758 | -3.091042  | \n",
       "| 2012       |  8         | -1.791759  | 44         | 1          | 20         | 1          |  3         | 0.16666667 | -2.580217  | \n",
       "| 2012       |  9         | -3.496508  | 45         | 1          | 21         | 1          |  4         | 0.03030303 | -1.791759  | \n",
       "| 2012       | 10         | -2.397895  | 46         | 1          | 22         | 1          |  5         | 0.09090909 | -3.496508  | \n",
       "| 2012       | 11         | -2.397895  | 47         | 1          | 23         | 1          |  6         | 0.09090909 | -2.397895  | \n",
       "| 2012       | 12         | -2.397895  | 48         | 1          | 24         | 1          |  7         | 0.09090909 | -2.397895  | \n",
       "| 2013       |  1         | -1.386294  | 49         | 1          | 25         | 1          |  8         | 0.25000000 | -2.397895  | \n",
       "| 2013       |  2         | -1.916923  | 50         | 1          | 26         | 1          |  9         | 0.14705882 | -1.386294  | \n",
       "| 2013       |  3         | -1.821612  | 51         | 1          | 27         | 1          | 10         | 0.16176471 | -1.916923  | \n",
       "| 2013       |  4         | -2.140066  | 52         | 1          | 28         | 1          | 11         | 0.11764706 | -1.821612  | \n",
       "| 2013       |  5         | -1.654558  | 53         | 1          | 29         | 1          | 12         | 0.19117647 | -2.140066  | \n",
       "| 2013       |  6         | -2.022283  | 54         | 1          | 30         | 1          | 13         | 0.13235294 | -1.654558  | \n",
       "\n",
       "\n"
      ],
      "text/plain": [
       "   year month per_treated time or or_trend imp imp_trend per_treated2\n",
       "1  2009  1    -3.970292    1   0   0       0    0        0.01886793  \n",
       "2  2009  2    -3.496508    2   0   0       0    0        0.03030303  \n",
       "3  2009  3    -3.970292    3   0   0       0    0        0.01886793  \n",
       "4  2009  4    -3.970292    4   0   0       0    0        0.01886793  \n",
       "5  2009  5    -2.803360    5   0   0       0    0        0.06060606  \n",
       "6  2009  6    -3.970292    6   0   0       0    0        0.01886793  \n",
       "7  2009  7    -3.091042    7   0   0       0    0        0.04545454  \n",
       "8  2009  8    -3.091042    8   0   0       0    0        0.04545454  \n",
       "9  2009  9    -3.970292    9   0   0       0    0        0.01886793  \n",
       "10 2009 10    -2.580217   10   0   0       0    0        0.07575758  \n",
       "11 2009 11    -3.091042   11   0   0       0    0        0.04545454  \n",
       "12 2009 12    -4.189655   12   0   0       0    0        0.01515152  \n",
       "13 2010  1    -3.496508   13   0   0       0    0        0.03030303  \n",
       "14 2010  2    -3.970292   14   0   0       0    0        0.01886793  \n",
       "15 2010  3    -4.189655   15   0   0       0    0        0.01515152  \n",
       "16 2010  4    -2.803360   16   0   0       0    0        0.06060606  \n",
       "17 2010  5    -2.803360   17   0   0       0    0        0.06060606  \n",
       "18 2010  6    -3.496508   18   0   0       0    0        0.03030303  \n",
       "19 2010  7    -4.189655   19   0   0       0    0        0.01515152  \n",
       "20 2010  8    -3.091042   20   0   0       0    0        0.04545454  \n",
       "21 2010  9    -4.189655   21   0   0       0    0        0.01515152  \n",
       "22 2010 10    -3.496508   22   0   0       0    0        0.03030303  \n",
       "23 2010 11    -3.496508   23   0   0       0    0        0.03030303  \n",
       "24 2010 12    -2.580217   24   0   0       0    0        0.07575758  \n",
       "25 2011  1    -2.803360   25   1   1       0    0        0.06060606  \n",
       "26 2011  2    -3.496508   26   1   2       0    0        0.03030303  \n",
       "27 2011  3    -2.803360   27   1   3       0    0        0.06060606  \n",
       "28 2011  4    -3.496508   28   1   4       0    0        0.03030303  \n",
       "29 2011  5    -2.803360   29   1   5       0    0        0.06060606  \n",
       "30 2011  6    -3.496508   30   1   6       0    0        0.03030303  \n",
       "31 2011  7    -2.803360   31   1   7       0    0        0.06060606  \n",
       "32 2011  8    -2.803360   32   1   8       0    0        0.06060606  \n",
       "33 2011  9    -2.580217   33   1   9       0    0        0.07575758  \n",
       "34 2011 10    -3.091042   34   1  10       0    0        0.04545454  \n",
       "35 2011 11    -2.580217   35   1  11       0    0        0.07575758  \n",
       "36 2011 12    -3.496508   36   1  12       0    0        0.03030303  \n",
       "37 2012  1    -3.091042   37   1  13       0    0        0.04545454  \n",
       "38 2012  2    -4.189655   38   1  14       0    0        0.01515152  \n",
       "39 2012  3    -2.110213   39   1  15       0    0        0.12121212  \n",
       "40 2012  4    -3.496508   40   1  16       0    0        0.03030303  \n",
       "41 2012  5    -3.091042   41   1  17       0    0        0.04545454  \n",
       "42 2012  6    -3.091042   42   1  18       1    1        0.04545454  \n",
       "43 2012  7    -2.580217   43   1  19       1    2        0.07575758  \n",
       "44 2012  8    -1.791759   44   1  20       1    3        0.16666667  \n",
       "45 2012  9    -3.496508   45   1  21       1    4        0.03030303  \n",
       "46 2012 10    -2.397895   46   1  22       1    5        0.09090909  \n",
       "47 2012 11    -2.397895   47   1  23       1    6        0.09090909  \n",
       "48 2012 12    -2.397895   48   1  24       1    7        0.09090909  \n",
       "49 2013  1    -1.386294   49   1  25       1    8        0.25000000  \n",
       "50 2013  2    -1.916923   50   1  26       1    9        0.14705882  \n",
       "51 2013  3    -1.821612   51   1  27       1   10        0.16176471  \n",
       "52 2013  4    -2.140066   52   1  28       1   11        0.11764706  \n",
       "53 2013  5    -1.654558   53   1  29       1   12        0.19117647  \n",
       "54 2013  6    -2.022283   54   1  30       1   13        0.13235294  \n",
       "   lag1_treat_ln\n",
       "1   0.000000    \n",
       "2   0.000000    \n",
       "3   0.000000    \n",
       "4   0.000000    \n",
       "5   0.000000    \n",
       "6   0.000000    \n",
       "7   0.000000    \n",
       "8   0.000000    \n",
       "9   0.000000    \n",
       "10  0.000000    \n",
       "11  0.000000    \n",
       "12  0.000000    \n",
       "13  0.000000    \n",
       "14  0.000000    \n",
       "15  0.000000    \n",
       "16  0.000000    \n",
       "17  0.000000    \n",
       "18  0.000000    \n",
       "19  0.000000    \n",
       "20  0.000000    \n",
       "21  0.000000    \n",
       "22  0.000000    \n",
       "23  0.000000    \n",
       "24  0.000000    \n",
       "25  0.000000    \n",
       "26  0.000000    \n",
       "27  0.000000    \n",
       "28  0.000000    \n",
       "29  0.000000    \n",
       "30  0.000000    \n",
       "31  0.000000    \n",
       "32  0.000000    \n",
       "33  0.000000    \n",
       "34  0.000000    \n",
       "35  0.000000    \n",
       "36  0.000000    \n",
       "37  0.000000    \n",
       "38  0.000000    \n",
       "39  0.000000    \n",
       "40  0.000000    \n",
       "41  0.000000    \n",
       "42 -3.091042    \n",
       "43 -3.091042    \n",
       "44 -2.580217    \n",
       "45 -1.791759    \n",
       "46 -3.496508    \n",
       "47 -2.397895    \n",
       "48 -2.397895    \n",
       "49 -2.397895    \n",
       "50 -1.386294    \n",
       "51 -1.916923    \n",
       "52 -1.821612    \n",
       "53 -2.140066    \n",
       "54 -1.654558    "
      ]
     },
     "metadata": {},
     "output_type": "display_data"
    }
   ],
   "source": [
    "data"
   ]
  },
  {
   "cell_type": "markdown",
   "metadata": {},
   "source": [
    "## 2.3 Visual Presentation of ITS Analysis"
   ]
  },
  {
   "cell_type": "code",
   "execution_count": 29,
   "metadata": {},
   "outputs": [
    {
     "data": {
      "image/png": "[encoded data removed]",
      "text/plain": [
       "plot without title"
      ]
     },
     "metadata": {},
     "output_type": "display_data"
    }
   ],
   "source": [
    "# Produce the plot, first plotting the raw data points\n",
    "plot(data$time,data$per_treated,\n",
    "     ylim=c(-8,0),\n",
    "     ylab=\"Ln(Proportion of strokes treated)\",\n",
    "     xlab=\"Year\",\n",
    "     pch=20,\n",
    "     col=\"pink\",\n",
    "     xaxt=\"n\")\n",
    "\n",
    "# Add x axis with dates\n",
    "#axis(1, at=1:35, labels=data$year)\n",
    "\n",
    "# interruption 1 - OR Study + ED (Jan 2011)\n",
    "abline(v=24.5,lty=2)\n",
    "\n",
    "#interruption 2 - Ambulance (July 2012)\n",
    "abline(v=36.5,lty=2)\n",
    "\n",
    "# The before line\n",
    "lines(data$time[1:24], fitted(model_final)[1:24], col=\"red\",lwd=2)\n",
    "\n",
    "# The Or study line \n",
    "lines(data$time[25:36], fitted(model_final)[25:36], col=\"red\",lwd=2)\n",
    "\n",
    "#The implementation line (must need to draw line as it follows a phase in period)\n",
    "lines(data$time[41:54], fitted(model_final)[41:54], col=\"red\",lwd=2)\n",
    "\n",
    "\n",
    "axis(1, at=1:54, labels=data$time[1:54])\n",
    "\n",
    "#Line representing counterfactual to ED implementation\n",
    "segments(25, model_final$coef[1]+model_final$coef[2]*25,\n",
    "         36, model_final$coef[1]+model_final$coef[2]*36,\n",
    "         lty=2, lwd=2, col='red')\n",
    "\n",
    "\n",
    "# Line representing counterfactual to the ambulance implementation\n",
    "segments(41, model_final$coef[1] + model_final$coef[2]*41 +\n",
    "           model_final$coef[3] + model_final$coef[4]*15,\n",
    "         54, model_final$coef[1] + model_final$coef[2]*54 +\n",
    "           model_final$coef[3] + model_final$coef[4]*30,\n",
    "         lty=2, lwd=2, col='red')\n",
    "\n",
    "\n",
    "\n",
    "# Phase-in period\n",
    "rect(40.5,-500,36.5,5000 , border = NA, col= '#00000011')\n"
   ]
  },
  {
   "cell_type": "code",
   "execution_count": 28,
   "metadata": {},
   "outputs": [
    {
     "data": {
      "text/html": [
       "<strong>53:</strong> -1.73904427991102"
      ],
      "text/latex": [
       "\\textbf{53:} -1.73904427991102"
      ],
      "text/markdown": [
       "**53:** -1.73904427991102"
      ],
      "text/plain": [
       "       53 \n",
       "-1.739044 "
      ]
     },
     "metadata": {},
     "output_type": "display_data"
    }
   ],
   "source": [
    "fitted(model_final)[49]"
   ]
  },
  {
   "cell_type": "markdown",
   "metadata": {},
   "source": [
    "## 3. Interrupted Time Series Analysis using ARIMA (single series)"
   ]
  },
  {
   "cell_type": "markdown",
   "metadata": {},
   "source": [
    "**Building the ARIMA model**\n",
    "\n",
    "We will use the first 25 points in the time series to build the ARIMA model.  This is because we know that there were interventions at point 26 and point 41.  The selected ARIMA model is then applied to the full series and intervention terms.\n",
    "\n",
    "A sample 25 points is **potentially** problematic for building the ARIMA model.  The more samples the better. "
   ]
  },
  {
   "cell_type": "code",
   "execution_count": 28,
   "metadata": {},
   "outputs": [
    {
     "data": {
      "image/png": "[encoded data removed]",
      "text/plain": [
       "Plot with title \"Series  diff(phased_data$per_treated[1:25])\""
      ]
     },
     "metadata": {},
     "output_type": "display_data"
    }
   ],
   "source": [
    "# Plot ACF and PACF\n",
    "# Set plotting to two records on one page\n",
    "par(mfrow=c(2,1))\n",
    "\n",
    "# Produce plots\n",
    "acf(diff(phased_data$per_treated[1:25]))\n",
    "acf(diff(phased_data$per_treated[1:25]),type='partial')"
   ]
  },
  {
   "cell_type": "code",
   "execution_count": 103,
   "metadata": {},
   "outputs": [
    {
     "data": {
      "text/plain": [
       "\n",
       "z test of coefficients:\n",
       "\n",
       "    Estimate Std. Error z value  Pr(>|z|)    \n",
       "ma1 -1.00000    0.20252 -4.9378 7.901e-07 ***\n",
       "---\n",
       "Signif. codes:  0 '***' 0.001 '**' 0.01 '*' 0.05 '.' 0.1 ' ' 1\n"
      ]
     },
     "metadata": {},
     "output_type": "display_data"
    },
    {
     "data": {
      "text/html": [
       "47.4515254469381"
      ],
      "text/latex": [
       "47.4515254469381"
      ],
      "text/markdown": [
       "47.4515254469381"
      ],
      "text/plain": [
       "[1] 47.45153"
      ]
     },
     "metadata": {},
     "output_type": "display_data"
    },
    {
     "data": {
      "text/plain": [
       "\n",
       "z test of coefficients:\n",
       "\n",
       "    Estimate Std. Error z value Pr(>|z|)   \n",
       "ar1 -0.48604    0.17266 -2.8151 0.004877 **\n",
       "---\n",
       "Signif. codes:  0 '***' 0.001 '**' 0.01 '*' 0.05 '.' 0.1 ' ' 1\n"
      ]
     },
     "metadata": {},
     "output_type": "display_data"
    },
    {
     "data": {
      "text/html": [
       "54.9965691779092"
      ],
      "text/latex": [
       "54.9965691779092"
      ],
      "text/markdown": [
       "54.9965691779092"
      ],
      "text/plain": [
       "[1] 54.99657"
      ]
     },
     "metadata": {},
     "output_type": "display_data"
    },
    {
     "data": {
      "text/plain": [
       "\n",
       "z test of coefficients:\n",
       "\n",
       "     Estimate Std. Error z value Pr(>|z|)   \n",
       "ma1 -1.055389   0.328018 -3.2175 0.001293 **\n",
       "ma2  0.055411   0.239957  0.2309 0.817377   \n",
       "---\n",
       "Signif. codes:  0 '***' 0.001 '**' 0.01 '*' 0.05 '.' 0.1 ' ' 1\n"
      ]
     },
     "metadata": {},
     "output_type": "display_data"
    },
    {
     "data": {
      "text/html": [
       "49.397788381402"
      ],
      "text/latex": [
       "49.397788381402"
      ],
      "text/markdown": [
       "49.397788381402"
      ],
      "text/plain": [
       "[1] 49.39779"
      ]
     },
     "metadata": {},
     "output_type": "display_data"
    },
    {
     "data": {
      "text/plain": [
       "\n",
       "z test of coefficients:\n",
       "\n",
       "     Estimate Std. Error z value  Pr(>|z|)    \n",
       "ar1 -0.044611   0.213347 -0.2091    0.8344    \n",
       "ma1 -0.999999   0.219255 -4.5609 5.094e-06 ***\n",
       "---\n",
       "Signif. codes:  0 '***' 0.001 '**' 0.01 '*' 0.05 '.' 0.1 ' ' 1\n"
      ]
     },
     "metadata": {},
     "output_type": "display_data"
    },
    {
     "data": {
      "text/html": [
       "49.4080467134451"
      ],
      "text/latex": [
       "49.4080467134451"
      ],
      "text/markdown": [
       "49.4080467134451"
      ],
      "text/plain": [
       "[1] 49.40805"
      ]
     },
     "metadata": {},
     "output_type": "display_data"
    }
   ],
   "source": [
    "arima_m1 = arima(ts(data$per_treated[1:25]), order=c(0,1,1))\n",
    "coeftest(arima_m1)\n",
    "AIC(arima_m1)\n",
    "\n",
    "arima_m2 = arima(ts(data$per_treated[1:25]), order=c(1,1,0))\n",
    "coeftest(arima_m2)\n",
    "AIC(arima_m2)\n",
    "\n",
    "arima_m3 = arima(ts(data$per_treated[1:25]), order=c(0,1,2))\n",
    "coeftest(arima_m3)\n",
    "AIC(arima_m3)\n",
    "\n",
    "arima_m4 = arima(ts(data$per_treated[1:25]), order=c(1,1,1))\n",
    "coeftest(arima_m4)\n",
    "AIC(arima_m4)\n"
   ]
  },
  {
   "cell_type": "markdown",
   "metadata": {},
   "source": [
    "Conclusion - select I(1) MA(1)"
   ]
  },
  {
   "cell_type": "code",
   "execution_count": 31,
   "metadata": {
    "collapsed": true
   },
   "outputs": [],
   "source": [
    "plot_diag <- function(model){\n",
    "    par(mfrow=c(2,1))\n",
    "    acf(model$residuals, lag.max=48)\n",
    "    pacf(model$residuals, lag.max=48)\n",
    "    #library(FitAR)\n",
    "    Box.Ljung.Test(model$residuals, lag = 24)\n",
    "    #boxresult=LjungBoxTest(dtoc.m1$residuals,k=2,StartLag=1)\n",
    "    #plot(boxresult[,3],main= \"Ljung-Box Q Test\", ylab= \"P-values\", xlab= \"Lag\")\n",
    "    qqnorm(model$residuals)\n",
    "    qqline(model$residuals)\n",
    "    }"
   ]
  },
  {
   "cell_type": "code",
   "execution_count": 112,
   "metadata": {},
   "outputs": [
    {
     "data": {
      "image/png": "[encoded data removed]",
      "text/plain": [
       "Plot with title \"Series  model$residuals\""
      ]
     },
     "metadata": {},
     "output_type": "display_data"
    },
    {
     "data": {
      "image/png": "[encoded data removed]",
      "text/plain": [
       "Plot with title \"Normal Q-Q Plot\""
      ]
     },
     "metadata": {},
     "output_type": "display_data"
    }
   ],
   "source": [
    "plot_diag(arima_m1)"
   ]
  },
  {
   "cell_type": "code",
   "execution_count": 85,
   "metadata": {
    "collapsed": true
   },
   "outputs": [],
   "source": [
    "Treat_Rate = ts(phased_data$per_treated)\n",
    "OR_Intervention = ts(phased_data$or)\n",
    "Implementation = ts(phased_data$imp)\n",
    "Imp_Rate = ts(phased_data$lag1_ln_per_treated)"
   ]
  },
  {
   "cell_type": "code",
   "execution_count": 105,
   "metadata": {},
   "outputs": [
    {
     "data": {
      "text/plain": [
       "\n",
       "Call:\n",
       "arima(x = Treat_Rate, order = c(0, 1, 1), xreg = data.table(OR_Intervention, \n",
       "    Implementation))\n",
       "\n",
       "Coefficients:\n",
       "          ma1  OR_Intervention  Implementation\n",
       "      -0.9999           0.4733          0.7883\n",
       "s.e.   0.0634           0.1752          0.1996\n",
       "\n",
       "sigma^2 estimated as 0.259:  log likelihood = -38.38,  aic = 84.76"
      ]
     },
     "metadata": {},
     "output_type": "display_data"
    },
    {
     "data": {
      "text/plain": [
       "\n",
       "z test of coefficients:\n",
       "\n",
       "                 Estimate Std. Error  z value  Pr(>|z|)    \n",
       "ma1             -0.999894   0.063352 -15.7831 < 2.2e-16 ***\n",
       "OR_Intervention  0.473272   0.175244   2.7006   0.00692 ** \n",
       "Implementation   0.788320   0.199599   3.9495 7.831e-05 ***\n",
       "---\n",
       "Signif. codes:  0 '***' 0.001 '**' 0.01 '*' 0.05 '.' 0.1 ' ' 1\n"
      ]
     },
     "metadata": {},
     "output_type": "display_data"
    }
   ],
   "source": [
    "intervention_m1 = arima(Treat_Rate, order=c(0,1,1), \n",
    "                 xreg=data.table(OR_Intervention, Implementation))\n",
    "intervention_m1\n",
    "coeftest(intervention_m1)"
   ]
  },
  {
   "cell_type": "code",
   "execution_count": 58,
   "metadata": {},
   "outputs": [
    {
     "data": {
      "text/html": [
       "<strong>OR_Intervention:</strong> 1.61398778072007"
      ],
      "text/latex": [
       "\\textbf{OR\\textbackslash{}\\_Intervention:} 1.61398778072007"
      ],
      "text/markdown": [
       "**OR_Intervention:** 1.61398778072007"
      ],
      "text/plain": [
       "OR_Intervention \n",
       "       1.613988 "
      ]
     },
     "metadata": {},
     "output_type": "display_data"
    },
    {
     "data": {
      "text/html": [
       "<strong>Implementation:</strong> 2.05894372023744"
      ],
      "text/latex": [
       "\\textbf{Implementation:} 2.05894372023744"
      ],
      "text/markdown": [
       "**Implementation:** 2.05894372023744"
      ],
      "text/plain": [
       "Implementation \n",
       "      2.058944 "
      ]
     },
     "metadata": {},
     "output_type": "display_data"
    }
   ],
   "source": [
    "exp(intervention_m1$coef[2])\n",
    "exp(intervention_m1$coef[3])"
   ]
  },
  {
   "cell_type": "markdown",
   "metadata": {},
   "source": [
    "OR intervention ~ 61% increase in treatment rate\n",
    "Full implementation - 105% increase in treatment rate over expected."
   ]
  },
  {
   "cell_type": "code",
   "execution_count": 113,
   "metadata": {},
   "outputs": [
    {
     "data": {
      "text/plain": [
       "\n",
       "Call:\n",
       "arima(x = Treat_Rate, order = c(0, 1, 1), xreg = data.table(OR_Intervention, \n",
       "    Implementation, I_Rate))\n",
       "\n",
       "Coefficients:\n",
       "          ma1  OR_Intervention  Implementation  I_Rate\n",
       "      -1.0000           0.4733          1.3085  0.2241\n",
       "s.e.   0.0581           0.1736          0.5749  0.2326\n",
       "\n",
       "sigma^2 estimated as 0.2541:  log likelihood = -37.92,  aic = 85.84"
      ]
     },
     "metadata": {},
     "output_type": "display_data"
    },
    {
     "data": {
      "text/plain": [
       "\n",
       "z test of coefficients:\n",
       "\n",
       "                 Estimate Std. Error  z value  Pr(>|z|)    \n",
       "ma1             -0.999985   0.058121 -17.2053 < 2.2e-16 ***\n",
       "OR_Intervention  0.473333   0.173607   2.7265  0.006402 ** \n",
       "Implementation   1.308485   0.574855   2.2762  0.022834 *  \n",
       "I_Rate           0.224105   0.232635   0.9633  0.335379    \n",
       "---\n",
       "Signif. codes:  0 '***' 0.001 '**' 0.01 '*' 0.05 '.' 0.1 ' ' 1\n"
      ]
     },
     "metadata": {},
     "output_type": "display_data"
    }
   ],
   "source": [
    "intervention_m2 = arima(Treat_Rate, order=c(0,1,1), \n",
    "                        \n",
    "                 xreg=data.table(OR_Intervention, Implementation, I_Rate))\n",
    "intervention_m2\n",
    "coeftest(intervention_m2)"
   ]
  },
  {
   "cell_type": "code",
   "execution_count": 102,
   "metadata": {
    "scrolled": true
   },
   "outputs": [
    {
     "data": {
      "text/html": [
       "<strong>Implementation:</strong> 3.70056465114542"
      ],
      "text/latex": [
       "\\textbf{Implementation:} 3.70056465114542"
      ],
      "text/markdown": [
       "**Implementation:** 3.70056465114542"
      ],
      "text/plain": [
       "Implementation \n",
       "      3.700565 "
      ]
     },
     "metadata": {},
     "output_type": "display_data"
    },
    {
     "data": {
      "text/html": [
       "<strong>I_Rate:</strong> 1.25120283807353"
      ],
      "text/latex": [
       "\\textbf{I\\textbackslash{}\\_Rate:} 1.25120283807353"
      ],
      "text/markdown": [
       "**I_Rate:** 1.25120283807353"
      ],
      "text/plain": [
       "  I_Rate \n",
       "1.251203 "
      ]
     },
     "metadata": {},
     "output_type": "display_data"
    },
    {
     "data": {
      "text/html": [
       "<strong>Implementation:</strong> 5.40012183738608"
      ],
      "text/latex": [
       "\\textbf{Implementation:} 5.40012183738608"
      ],
      "text/markdown": [
       "**Implementation:** 5.40012183738608"
      ],
      "text/plain": [
       "Implementation \n",
       "      5.400122 "
      ]
     },
     "metadata": {},
     "output_type": "display_data"
    }
   ],
   "source": [
    "exp(intervention_m2$coef[3])\n",
    "exp(intervention_m2$coef[4])\n",
    "\n",
    "exp(intervention_m2$coef[3] / (1 - intervention_m2$coef[4]))"
   ]
  },
  {
   "cell_type": "markdown",
   "metadata": {},
   "source": [
    "Gradual change leading to a 4.4 times as many patients being treated.\n",
    "\n",
    "Issues.  The Imp_Rate variable is not significant.  "
   ]
  },
  {
   "cell_type": "markdown",
   "metadata": {},
   "source": [
    "### Final check of model diagnostics"
   ]
  },
  {
   "cell_type": "code",
   "execution_count": 109,
   "metadata": {},
   "outputs": [
    {
     "data": {
      "image/png": "[encoded data removed]",
      "text/plain": [
       "Plot with title \"Series  model$residuals\""
      ]
     },
     "metadata": {},
     "output_type": "display_data"
    },
    {
     "data": {
      "image/png": "[encoded data removed]",
      "text/plain": [
       "Plot with title \"Normal Q-Q Plot\""
      ]
     },
     "metadata": {},
     "output_type": "display_data"
    }
   ],
   "source": [
    "plot_diag(intervention_m2)"
   ]
  },
  {
   "cell_type": "markdown",
   "metadata": {},
   "source": [
    "Conclusion - in general okay.  Potentially some outlying residuals at the far end of the distributions"
   ]
  },
  {
   "cell_type": "code",
   "execution_count": null,
   "metadata": {
    "collapsed": true
   },
   "outputs": [],
   "source": []
  }
 ],
 "metadata": {
  "kernelspec": {
   "display_name": "R",
   "language": "R",
   "name": "ir"
  },
  "language_info": {
   "codemirror_mode": "r",
   "file_extension": ".r",
   "mimetype": "text/x-r-source",
   "name": "R",
   "pygments_lexer": "r",
   "version": "3.4.3"
  }
 },
 "nbformat": 4,
 "nbformat_minor": 2
}
