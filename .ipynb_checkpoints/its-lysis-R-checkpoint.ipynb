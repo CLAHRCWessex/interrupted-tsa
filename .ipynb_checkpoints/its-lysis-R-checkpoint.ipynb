{
 "cells": [
  {
   "cell_type": "markdown",
   "metadata": {},
   "source": [
    "# Interrupted Time Series Analysis - Single Time Series Example (in R)"
   ]
  },
  {
   "cell_type": "markdown",
   "metadata": {},
   "source": [
    "Import libraries need for ITS in R."
   ]
  },
  {
   "cell_type": "code",
   "execution_count": 396,
   "metadata": {},
   "outputs": [],
   "source": [
    "library(nlme)\n",
    "library(car)\n",
    "library(tseries)\n",
    "library(ggplot2)\n",
    "library(lmtest)\n",
    "library(LSTS)\n",
    "library(data.table)\n",
    "\n",
    "require(mgcv)"
   ]
  },
  {
   "cell_type": "code",
   "execution_count": 429,
   "metadata": {
    "collapsed": true
   },
   "outputs": [],
   "source": [
    "data <- read.csv(file=\"data/lysis.csv\", header=TRUE, sep=\",\")"
   ]
  },
  {
   "cell_type": "markdown",
   "metadata": {},
   "source": [
    "Expecting 54 data points"
   ]
  },
  {
   "cell_type": "code",
   "execution_count": 430,
   "metadata": {},
   "outputs": [
    {
     "data": {
      "text/html": [
       "54"
      ],
      "text/latex": [
       "54"
      ],
      "text/markdown": [
       "54"
      ],
      "text/plain": [
       "[1] 54"
      ]
     },
     "metadata": {},
     "output_type": "display_data"
    }
   ],
   "source": [
    "nrow(data)"
   ]
  },
  {
   "cell_type": "markdown",
   "metadata": {},
   "source": [
    "Take natural log of DV"
   ]
  },
  {
   "cell_type": "code",
   "execution_count": 433,
   "metadata": {},
   "outputs": [],
   "source": [
    "data$per_treated = log(data$per_treated2)"
   ]
  },
  {
   "cell_type": "code",
   "execution_count": 472,
   "metadata": {},
   "outputs": [
    {
     "data": {
      "text/html": [
       "<table>\n",
       "<thead><tr><th scope=col>year</th><th scope=col>month</th><th scope=col>per_treated</th><th scope=col>time</th><th scope=col>or</th><th scope=col>or_trend</th><th scope=col>imp</th><th scope=col>imp_trend</th><th scope=col>per_treated2</th></tr></thead>\n",
       "<tbody>\n",
       "\t<tr><td>2009      </td><td>1         </td><td>-3.970292 </td><td>1         </td><td>0         </td><td>0         </td><td>0         </td><td>0         </td><td>0.01886793</td></tr>\n",
       "\t<tr><td>2009      </td><td>2         </td><td>-3.496508 </td><td>2         </td><td>0         </td><td>0         </td><td>0         </td><td>0         </td><td>0.03030303</td></tr>\n",
       "\t<tr><td>2009      </td><td>3         </td><td>-3.970292 </td><td>3         </td><td>0         </td><td>0         </td><td>0         </td><td>0         </td><td>0.01886793</td></tr>\n",
       "\t<tr><td>2009      </td><td>4         </td><td>-3.970292 </td><td>4         </td><td>0         </td><td>0         </td><td>0         </td><td>0         </td><td>0.01886793</td></tr>\n",
       "\t<tr><td>2009      </td><td>5         </td><td>-2.803360 </td><td>5         </td><td>0         </td><td>0         </td><td>0         </td><td>0         </td><td>0.06060606</td></tr>\n",
       "\t<tr><td>2009      </td><td>6         </td><td>-3.970292 </td><td>6         </td><td>0         </td><td>0         </td><td>0         </td><td>0         </td><td>0.01886793</td></tr>\n",
       "</tbody>\n",
       "</table>\n"
      ],
      "text/latex": [
       "\\begin{tabular}{r|lllllllll}\n",
       " year & month & per\\_treated & time & or & or\\_trend & imp & imp\\_trend & per\\_treated2\\\\\n",
       "\\hline\n",
       "\t 2009       & 1          & -3.970292  & 1          & 0          & 0          & 0          & 0          & 0.01886793\\\\\n",
       "\t 2009       & 2          & -3.496508  & 2          & 0          & 0          & 0          & 0          & 0.03030303\\\\\n",
       "\t 2009       & 3          & -3.970292  & 3          & 0          & 0          & 0          & 0          & 0.01886793\\\\\n",
       "\t 2009       & 4          & -3.970292  & 4          & 0          & 0          & 0          & 0          & 0.01886793\\\\\n",
       "\t 2009       & 5          & -2.803360  & 5          & 0          & 0          & 0          & 0          & 0.06060606\\\\\n",
       "\t 2009       & 6          & -3.970292  & 6          & 0          & 0          & 0          & 0          & 0.01886793\\\\\n",
       "\\end{tabular}\n"
      ],
      "text/markdown": [
       "\n",
       "year | month | per_treated | time | or | or_trend | imp | imp_trend | per_treated2 | \n",
       "|---|---|---|---|---|---|\n",
       "| 2009       | 1          | -3.970292  | 1          | 0          | 0          | 0          | 0          | 0.01886793 | \n",
       "| 2009       | 2          | -3.496508  | 2          | 0          | 0          | 0          | 0          | 0.03030303 | \n",
       "| 2009       | 3          | -3.970292  | 3          | 0          | 0          | 0          | 0          | 0.01886793 | \n",
       "| 2009       | 4          | -3.970292  | 4          | 0          | 0          | 0          | 0          | 0.01886793 | \n",
       "| 2009       | 5          | -2.803360  | 5          | 0          | 0          | 0          | 0          | 0.06060606 | \n",
       "| 2009       | 6          | -3.970292  | 6          | 0          | 0          | 0          | 0          | 0.01886793 | \n",
       "\n",
       "\n"
      ],
      "text/plain": [
       "  year month per_treated time or or_trend imp imp_trend per_treated2\n",
       "1 2009 1     -3.970292   1    0  0        0   0         0.01886793  \n",
       "2 2009 2     -3.496508   2    0  0        0   0         0.03030303  \n",
       "3 2009 3     -3.970292   3    0  0        0   0         0.01886793  \n",
       "4 2009 4     -3.970292   4    0  0        0   0         0.01886793  \n",
       "5 2009 5     -2.803360   5    0  0        0   0         0.06060606  \n",
       "6 2009 6     -3.970292   6    0  0        0   0         0.01886793  "
      ]
     },
     "metadata": {},
     "output_type": "display_data"
    }
   ],
   "source": [
    "head(data)"
   ]
  },
  {
   "cell_type": "markdown",
   "metadata": {},
   "source": [
    "## 1. Visual Impact Analysis of Interruptions"
   ]
  },
  {
   "cell_type": "code",
   "execution_count": 483,
   "metadata": {},
   "outputs": [
    {
     "data": {
      "image/png": "[encoded data removed]",
      "text/plain": [
       "plot without title"
      ]
     },
     "metadata": {},
     "output_type": "display_data"
    }
   ],
   "source": [
    "plot(data$time[1:54],data$per_treated[1:54],\n",
    "     ylab=\"Ln(Proportion of strokes treated)\",\n",
    "     ylim=c(-6,0),\n",
    "     xlab=\"Year-Month\",\n",
    "     type=\"l\",\n",
    "     col=\"blue\",\n",
    "     xaxt=\"n\")\n",
    "\n",
    "#OR study portion of the time series\n",
    "points(data$time[25:36],data$per_treated[25:36],\n",
    "       type='l',\n",
    "       col=\"dark green\")\n",
    "\n",
    "\n",
    "#ED and Ambulance implementation portion of the time series\n",
    "points(data$time[37:54],data$per_treated[37:54],\n",
    "       type='l',\n",
    "       col=\"red\")\n",
    "\n",
    "axis(1, at=1:54, labels=data$time[1:54])\n",
    "\n",
    "\n",
    "# Add in the points for the figure\n",
    "points(data$time[1:24],data$per_treated[1:24],\n",
    "       col=\"blue\",\n",
    "       pch=20)\n",
    "\n",
    "points(data$time[25:36],data$per_treated[25:36],\n",
    "       col=\"dark green\",\n",
    "       pch=20)\n",
    "\n",
    "\n",
    "points(data$time[37:54],data$per_treated[37:54],\n",
    "       col=\"red\",\n",
    "       pch=20)\n",
    "\n",
    "\n",
    "# Interruption 1 the start of the OR study\n",
    "abline(v=24.5,lty=2, lwd = 2)\n",
    "\n",
    "# Interruption 2 ED implementation \n",
    "abline(v=36.5,lty=2, lwd = 2)\n",
    "\n",
    "# Interruption 3 Ambulance implementation \n",
    "abline(v=41.5,lty=2, lwd = 2)\n",
    "\n",
    "\n",
    "# Add in a legend\n",
    "legend(x=2, y=0.2, legend=c(\"Before the OR study\",\"Interrupt 1: OR study\", \"Interrupt 2: ED Redirect\", \"Interrupt 3: Amb Phone-Ahead\"),\n",
    "       col=c(\"blue\",\"dark green\", \"black\", \"red\"),pch=20, cex=0.6, pt.cex = 1)\n"
   ]
  },
  {
   "cell_type": "markdown",
   "metadata": {},
   "source": [
    "Interruption 2 does not give sufficient points for an ITS.  \n",
    "\n",
    "Options 1. Merge interrupts 2 and 3.\n",
    "\n",
    "Option 2: Include a phase in."
   ]
  },
  {
   "cell_type": "markdown",
   "metadata": {},
   "source": [
    "## 2. ITS - Linear Regression using Generalised Least Squares"
   ]
  },
  {
   "cell_type": "markdown",
   "metadata": {},
   "source": [
    "## 2.1 Modelling a phased-implementation period"
   ]
  },
  {
   "cell_type": "markdown",
   "metadata": {},
   "source": [
    "Partial implementation of the changes took place at point 37.  However, the full implementation of the recommended changes did not take place at point 41.  "
   ]
  },
  {
   "cell_type": "markdown",
   "metadata": {},
   "source": [
    "### 2.1.1 Exclude phase-in period and correct other variables"
   ]
  },
  {
   "cell_type": "markdown",
   "metadata": {},
   "source": [
    "We cannot model the phase-in period with the number of data points available.  \n",
    "Therefore these points are excluded"
   ]
  },
  {
   "cell_type": "code",
   "execution_count": 493,
   "metadata": {
    "collapsed": true
   },
   "outputs": [],
   "source": [
    "phased_data <- data[c(1:36,41:54),]"
   ]
  },
  {
   "cell_type": "markdown",
   "metadata": {},
   "source": [
    "The trend variable for implementation is begins at 5.  This needs to be restarted at 1."
   ]
  },
  {
   "cell_type": "code",
   "execution_count": 499,
   "metadata": {},
   "outputs": [],
   "source": [
    "phased_data$imp_trend[37:50] <- phased_data$imp_trend[37:50] - 4"
   ]
  },
  {
   "cell_type": "markdown",
   "metadata": {},
   "source": [
    "### 2.1.1 Preliminary Modelling"
   ]
  },
  {
   "cell_type": "markdown",
   "metadata": {},
   "source": [
    "Initial model of the time series uses OLS.  Residuals of OLS are examined to identify GLS error model."
   ]
  },
  {
   "cell_type": "code",
   "execution_count": 500,
   "metadata": {},
   "outputs": [
    {
     "data": {
      "text/plain": [
       "\n",
       "Call:\n",
       "lm(formula = per_treated ~ time + or + or_trend + imp + imp_trend, \n",
       "    data = phased_data)\n",
       "\n",
       "Residuals:\n",
       "     Min       1Q   Median       3Q      Max \n",
       "-0.95366 -0.37002 -0.02623  0.31524  0.94836 \n",
       "\n",
       "Coefficients:\n",
       "             Estimate Std. Error t value Pr(>|t|)    \n",
       "(Intercept) -3.643287   0.210844 -17.280   <2e-16 ***\n",
       "time         0.011471   0.014756   0.777    0.441    \n",
       "or           0.258545   0.366167   0.706    0.484    \n",
       "or_trend     0.002105   0.044371   0.047    0.962    \n",
       "imp         -0.138326   0.508623  -0.272    0.787    \n",
       "imp_trend    0.083963   0.053401   1.572    0.123    \n",
       "---\n",
       "Signif. codes:  0 '***' 0.001 '**' 0.01 '*' 0.05 '.' 0.1 ' ' 1\n",
       "\n",
       "Residual standard error: 0.5004 on 44 degrees of freedom\n",
       "Multiple R-squared:  0.5782,\tAdjusted R-squared:  0.5303 \n",
       "F-statistic: 12.07 on 5 and 44 DF,  p-value: 2.192e-07\n"
      ]
     },
     "metadata": {},
     "output_type": "display_data"
    }
   ],
   "source": [
    "# A preliminary OLS regression\n",
    "model_ols <- lm(per_treated ~ time + or + or_trend + imp + imp_trend, data=phased_data)\n",
    "summary(model_ols)"
   ]
  },
  {
   "cell_type": "markdown",
   "metadata": {},
   "source": [
    "Remember when interpretting coefficients - dependent variables is logged!"
   ]
  },
  {
   "cell_type": "markdown",
   "metadata": {},
   "source": [
    "### 2.1.2 Error model identification"
   ]
  },
  {
   "cell_type": "code",
   "execution_count": 501,
   "metadata": {},
   "outputs": [
    {
     "data": {
      "image/png": "[encoded data removed]",
      "text/plain": [
       "Plot with title \"Series residuals(model_ols)\""
      ]
     },
     "metadata": {},
     "output_type": "display_data"
    }
   ],
   "source": [
    "# Plot ACF and PACF\n",
    "# Set plotting to two records on one page\n",
    "par(mfrow=c(2,1))\n",
    "\n",
    "# Produce plots\n",
    "acf(residuals(model_ols))\n",
    "acf(residuals(model_ols),type='partial')"
   ]
  },
  {
   "cell_type": "markdown",
   "metadata": {},
   "source": [
    "Conclusion Try  AR(4) and MA(4); compare to simpler models"
   ]
  },
  {
   "cell_type": "markdown",
   "metadata": {},
   "source": [
    "## 2.2. GLS modelling"
   ]
  },
  {
   "cell_type": "code",
   "execution_count": 531,
   "metadata": {},
   "outputs": [
    {
     "data": {
      "text/plain": [
       "Generalized least squares fit by maximum likelihood\n",
       "  Model: per_treated ~ time + or + or_trend + imp + imp_trend \n",
       "  Data: phased_data \n",
       "       AIC     BIC    logLik\n",
       "  78.85054 99.8828 -28.42527\n",
       "\n",
       "Correlation Structure: ARMA(4,0)\n",
       " Formula: ~time \n",
       " Parameter estimate(s):\n",
       "      Phi1       Phi2       Phi3       Phi4 \n",
       "-0.3138525 -0.2255121 -0.1596681 -0.3304846 \n",
       "\n",
       "Coefficients:\n",
       "                Value  Std.Error   t-value p-value\n",
       "(Intercept) -3.552395 0.10724188 -33.12507  0.0000\n",
       "time         0.004695 0.00761564   0.61647  0.5408\n",
       "or           0.343370 0.21636891   1.58696  0.1197\n",
       "or_trend     0.012109 0.02524668   0.47963  0.6339\n",
       "imp         -0.242278 0.29209255  -0.82946  0.4113\n",
       "imp_trend    0.088712 0.03258708   2.72231  0.0093\n",
       "\n",
       " Correlation: \n",
       "          (Intr) time   or     or_trn imp   \n",
       "time      -0.896                            \n",
       "or         0.342 -0.530                     \n",
       "or_trend   0.185 -0.166 -0.648              \n",
       "imp        0.056 -0.089  0.566 -0.772       \n",
       "imp_trend  0.067 -0.107  0.642 -0.761  0.338\n",
       "\n",
       "Standardized residuals:\n",
       "        Min          Q1         Med          Q3         Max \n",
       "-2.03777634 -0.92527060 -0.03604791  0.67798978  1.97565304 \n",
       "\n",
       "Residual standard error: 0.4683162 \n",
       "Degrees of freedom: 50 total; 44 residual"
      ]
     },
     "metadata": {},
     "output_type": "display_data"
    },
    {
     "data": {
      "text/html": [
       "<table>\n",
       "<thead><tr><th></th><th scope=col>2.5 %</th><th scope=col>97.5 %</th></tr></thead>\n",
       "<tbody>\n",
       "\t<tr><th scope=row>(Intercept)</th><td>-3.76258554</td><td>-3.34220509</td></tr>\n",
       "\t<tr><th scope=row>time</th><td>-0.01023156</td><td> 0.01962118</td></tr>\n",
       "\t<tr><th scope=row>or</th><td>-0.08070565</td><td> 0.76744490</td></tr>\n",
       "\t<tr><th scope=row>or_trend</th><td>-0.03737340</td><td> 0.06159175</td></tr>\n",
       "\t<tr><th scope=row>imp</th><td>-0.81476922</td><td> 0.33021252</td></tr>\n",
       "\t<tr><th scope=row>imp_trend</th><td> 0.02484269</td><td> 0.15258170</td></tr>\n",
       "</tbody>\n",
       "</table>\n"
      ],
      "text/latex": [
       "\\begin{tabular}{r|ll}\n",
       "  & 2.5 \\% & 97.5 \\%\\\\\n",
       "\\hline\n",
       "\t(Intercept) & -3.76258554 & -3.34220509\\\\\n",
       "\ttime & -0.01023156 &  0.01962118\\\\\n",
       "\tor & -0.08070565 &  0.76744490\\\\\n",
       "\tor\\_trend & -0.03737340 &  0.06159175\\\\\n",
       "\timp & -0.81476922 &  0.33021252\\\\\n",
       "\timp\\_trend &  0.02484269 &  0.15258170\\\\\n",
       "\\end{tabular}\n"
      ],
      "text/markdown": [
       "\n",
       "| <!--/--> | 2.5 % | 97.5 % | \n",
       "|---|---|---|---|---|---|\n",
       "| (Intercept) | -3.76258554 | -3.34220509 | \n",
       "| time | -0.01023156 |  0.01962118 | \n",
       "| or | -0.08070565 |  0.76744490 | \n",
       "| or_trend | -0.03737340 |  0.06159175 | \n",
       "| imp | -0.81476922 |  0.33021252 | \n",
       "| imp_trend |  0.02484269 |  0.15258170 | \n",
       "\n",
       "\n"
      ],
      "text/plain": [
       "            2.5 %       97.5 %     \n",
       "(Intercept) -3.76258554 -3.34220509\n",
       "time        -0.01023156  0.01962118\n",
       "or          -0.08070565  0.76744490\n",
       "or_trend    -0.03737340  0.06159175\n",
       "imp         -0.81476922  0.33021252\n",
       "imp_trend    0.02484269  0.15258170"
      ]
     },
     "metadata": {},
     "output_type": "display_data"
    }
   ],
   "source": [
    "# Fit the GLS regression model\n",
    "gls_m1<- gls(per_treated ~ time + or + or_trend + imp + imp_trend,\n",
    "  data=phased_data,\n",
    "  correlation=corARMA(p=4,form=~time),\n",
    "  method=\"ML\")\n",
    "summary(gls_m1)\n",
    "confint(gls_m1)"
   ]
  },
  {
   "cell_type": "code",
   "execution_count": 530,
   "metadata": {},
   "outputs": [
    {
     "data": {
      "text/html": [
       "<table>\n",
       "<thead><tr><th></th><th scope=col>call</th><th scope=col>Model</th><th scope=col>df</th><th scope=col>AIC</th><th scope=col>BIC</th><th scope=col>logLik</th><th scope=col>Test</th><th scope=col>L.Ratio</th><th scope=col>p-value</th></tr></thead>\n",
       "<tbody>\n",
       "\t<tr><th scope=row>gls_m1</th><td>gls(model = per_treated ~ time + or + or_trend + imp + imp_trend,     data = phased_data, correlation = corARMA(p = 4, form = ~time),     method = \"ML\")       </td><td>1                                                                                                                                                              </td><td>11                                                                                                                                                             </td><td>78.85054                                                                                                                                                       </td><td>99.88280                                                                                                                                                       </td><td>-28.42527                                                                                                                                                      </td><td>                                                                                                                                                               </td><td>      NA                                                                                                                                                       </td><td>          NA                                                                                                                                                   </td></tr>\n",
       "\t<tr><th scope=row>gls_m2</th><td>gls(model = per_treated ~ time + or + or_trend + imp + imp_trend,     data = phased_data, correlation = corARMA(p = 4, q = 4, form = ~time),     method = \"ML\")</td><td>2                                                                                                                                                              </td><td>15                                                                                                                                                             </td><td>61.44622                                                                                                                                                       </td><td>90.12657                                                                                                                                                       </td><td>-15.72311                                                                                                                                                      </td><td>1 vs 2                                                                                                                                                         </td><td>25.40432                                                                                                                                                       </td><td>4.171682e-05                                                                                                                                                   </td></tr>\n",
       "</tbody>\n",
       "</table>\n"
      ],
      "text/latex": [
       "\\begin{tabular}{r|lllllllll}\n",
       "  & call & Model & df & AIC & BIC & logLik & Test & L.Ratio & p-value\\\\\n",
       "\\hline\n",
       "\tgls\\_m1 & gls(model = per\\_treated \\textasciitilde{} time + or + or\\_trend + imp + imp\\_trend,     data = phased\\_data, correlation = corARMA(p = 4, form = \\textasciitilde{}time),     method = \"ML\")        & 1                                                                                                                                                                                                         & 11                                                                                                                                                                                                        & 78.85054                                                                                                                                                                                                  & 99.88280                                                                                                                                                                                                  & -28.42527                                                                                                                                                                                                 &                                                                                                                                                                                                           &       NA                                                                                                                                                                                                  &           NA                                                                                                                                                                                             \\\\\n",
       "\tgls\\_m2 & gls(model = per\\_treated \\textasciitilde{} time + or + or\\_trend + imp + imp\\_trend,     data = phased\\_data, correlation = corARMA(p = 4, q = 4, form = \\textasciitilde{}time),     method = \"ML\") & 2                                                                                                                                                                                                         & 15                                                                                                                                                                                                        & 61.44622                                                                                                                                                                                                  & 90.12657                                                                                                                                                                                                  & -15.72311                                                                                                                                                                                                 & 1 vs 2                                                                                                                                                                                                    & 25.40432                                                                                                                                                                                                  & 4.171682e-05                                                                                                                                                                                             \\\\\n",
       "\\end{tabular}\n"
      ],
      "text/markdown": [
       "\n",
       "| <!--/--> | call | Model | df | AIC | BIC | logLik | Test | L.Ratio | p-value | \n",
       "|---|---|\n",
       "| gls_m1 | gls(model = per_treated ~ time + or + or_trend + imp + imp_trend,     data = phased_data, correlation = corARMA(p = 4, form = ~time),     method = \"ML\")        | 1                                                                                                                                                               | 11                                                                                                                                                              | 78.85054                                                                                                                                                        | 99.88280                                                                                                                                                        | -28.42527                                                                                                                                                       |                                                                                                                                                                 |       NA                                                                                                                                                        |           NA                                                                                                                                                    | \n",
       "| gls_m2 | gls(model = per_treated ~ time + or + or_trend + imp + imp_trend,     data = phased_data, correlation = corARMA(p = 4, q = 4, form = ~time),     method = \"ML\") | 2                                                                                                                                                               | 15                                                                                                                                                              | 61.44622                                                                                                                                                        | 90.12657                                                                                                                                                        | -15.72311                                                                                                                                                       | 1 vs 2                                                                                                                                                          | 25.40432                                                                                                                                                        | 4.171682e-05                                                                                                                                                    | \n",
       "\n",
       "\n"
      ],
      "text/plain": [
       "       call                                                                                                                                                           \n",
       "gls_m1 gls(model = per_treated ~ time + or + or_trend + imp + imp_trend,     data = phased_data, correlation = corARMA(p = 4, form = ~time),     method = \"ML\")       \n",
       "gls_m2 gls(model = per_treated ~ time + or + or_trend + imp + imp_trend,     data = phased_data, correlation = corARMA(p = 4, q = 4, form = ~time),     method = \"ML\")\n",
       "       Model df AIC      BIC      logLik    Test   L.Ratio  p-value     \n",
       "gls_m1 1     11 78.85054 99.88280 -28.42527              NA           NA\n",
       "gls_m2 2     15 61.44622 90.12657 -15.72311 1 vs 2 25.40432 4.171682e-05"
      ]
     },
     "metadata": {},
     "output_type": "display_data"
    }
   ],
   "source": [
    "gls_m2 <- update(gls_m1,correlation=corARMA(p=4, q=4, form=~time))\n",
    "anova(gls_m1,gls_m2)"
   ]
  },
  {
   "cell_type": "markdown",
   "metadata": {},
   "source": [
    "Conclusion.  AIC of ARMA(1,1) is lower and significant.  Check sensitivity of results."
   ]
  },
  {
   "cell_type": "code",
   "execution_count": 532,
   "metadata": {},
   "outputs": [],
   "source": [
    "model_final = gls_m1"
   ]
  },
  {
   "cell_type": "code",
   "execution_count": 528,
   "metadata": {},
   "outputs": [
    {
     "data": {
      "text/plain": [
       "Generalized least squares fit by maximum likelihood\n",
       "  Model: per_treated ~ time + or + or_trend + imp + imp_trend \n",
       "  Data: phased_data \n",
       "       AIC     BIC    logLik\n",
       "  78.85054 99.8828 -28.42527\n",
       "\n",
       "Correlation Structure: ARMA(4,0)\n",
       " Formula: ~time \n",
       " Parameter estimate(s):\n",
       "      Phi1       Phi2       Phi3       Phi4 \n",
       "-0.3138525 -0.2255121 -0.1596681 -0.3304846 \n",
       "\n",
       "Coefficients:\n",
       "                Value  Std.Error   t-value p-value\n",
       "(Intercept) -3.552395 0.10724188 -33.12507  0.0000\n",
       "time         0.004695 0.00761564   0.61647  0.5408\n",
       "or           0.343370 0.21636891   1.58696  0.1197\n",
       "or_trend     0.012109 0.02524668   0.47963  0.6339\n",
       "imp         -0.242278 0.29209255  -0.82946  0.4113\n",
       "imp_trend    0.088712 0.03258708   2.72231  0.0093\n",
       "\n",
       " Correlation: \n",
       "          (Intr) time   or     or_trn imp   \n",
       "time      -0.896                            \n",
       "or         0.342 -0.530                     \n",
       "or_trend   0.185 -0.166 -0.648              \n",
       "imp        0.056 -0.089  0.566 -0.772       \n",
       "imp_trend  0.067 -0.107  0.642 -0.761  0.338\n",
       "\n",
       "Standardized residuals:\n",
       "        Min          Q1         Med          Q3         Max \n",
       "-2.03777634 -0.92527060 -0.03604791  0.67798978  1.97565304 \n",
       "\n",
       "Residual standard error: 0.4683162 \n",
       "Degrees of freedom: 50 total; 44 residual"
      ]
     },
     "metadata": {},
     "output_type": "display_data"
    }
   ],
   "source": [
    "summary(model_final)"
   ]
  },
  {
   "cell_type": "code",
   "execution_count": 452,
   "metadata": {},
   "outputs": [
    {
     "data": {
      "text/html": [
       "10.1199455692044"
      ],
      "text/latex": [
       "10.1199455692044"
      ],
      "text/markdown": [
       "10.1199455692044"
      ],
      "text/plain": [
       "[1] 10.11995"
      ]
     },
     "metadata": {},
     "output_type": "display_data"
    }
   ],
   "source": [
    "(exp(0.0964)-1) * 100"
   ]
  },
  {
   "cell_type": "markdown",
   "metadata": {},
   "source": [
    "## 2.3 Visual Presentation of ITS Analysis"
   ]
  },
  {
   "cell_type": "code",
   "execution_count": 534,
   "metadata": {},
   "outputs": [
    {
     "data": {
      "image/png": "[encoded data removed]",
      "text/plain": [
       "plot without title"
      ]
     },
     "metadata": {},
     "output_type": "display_data"
    }
   ],
   "source": [
    "# Produce the plot, first plotting the raw data points\n",
    "plot(data$time,data$per_treated,\n",
    "     ylim=c(-8,0),\n",
    "     ylab=\"Ln(Proportion of strokes treated)\",\n",
    "     xlab=\"Year\",\n",
    "     pch=20,\n",
    "     col=\"pink\",\n",
    "     xaxt=\"n\")\n",
    "\n",
    "# Add x axis with dates\n",
    "#axis(1, at=1:35, labels=data$year)\n",
    "\n",
    "# interruption 1 - OR Study + ED (Jan 2011)\n",
    "abline(v=24.5,lty=2)\n",
    "\n",
    "#interruption 2 - Ambulance (July 2012)\n",
    "abline(v=36.5,lty=2)\n",
    "\n",
    "# The before line\n",
    "lines(data$time[1:24], fitted(model_final)[1:24], col=\"red\",lwd=2)\n",
    "\n",
    "# The Or study line \n",
    "lines(data$time[25:36], fitted(model_final)[25:36], col=\"red\",lwd=2)\n",
    "\n",
    "#The implementation line\n",
    "lines(data$time[41:54], fitted(model_final)[37:50], col=\"red\",lwd=2)\n",
    "\n",
    "\n",
    "axis(1, at=1:54, labels=data$time[1:54])\n",
    "\n",
    "\n",
    "#Line representing counterfactual to ED implementation\n",
    "segments(25, model_final$coef[1]+model_final$coef[2]*25,\n",
    "         36, model_final$coef[1]+model_final$coef[2]*36,\n",
    "         lty=2, lwd=2, col='red')\n",
    "\n",
    "\n",
    "# Line representing counterfactual to the ambulance implementation\n",
    "segments(41, model_final$coef[1] + model_final$coef[2]*41 +\n",
    "           model_final$coef[3] + model_final$coef[4]*15,\n",
    "         54, model_final$coef[1] + model_final$coef[2]*54 +\n",
    "           model_final$coef[3] + model_final$coef[4]*30,\n",
    "         lty=2, lwd=2, col='red')\n",
    "\n",
    "\n",
    "\n",
    "# Phase-in period\n",
    "rect(40.5,-500,36.5,5000 , border = NA, col= '#00000011')\n"
   ]
  },
  {
   "cell_type": "markdown",
   "metadata": {},
   "source": [
    "## Interrupted Time Series Analysis using ARIMA (single series)"
   ]
  },
  {
   "cell_type": "markdown",
   "metadata": {},
   "source": [
    "**Building the ARIMA model**\n",
    "\n",
    "We will use the first 25 points in the time series to build the ARIMA model.  This is because we know that there were interventions at point 26 and point 41.\n",
    "\n",
    "A sample 25 points is potentially problematic for building the ARIMA model.  "
   ]
  },
  {
   "cell_type": "code",
   "execution_count": 457,
   "metadata": {},
   "outputs": [
    {
     "data": {
      "image/png": "[encoded data removed]",
      "text/plain": [
       "Plot with title \"Series diff(data$per_treated[1:25])\""
      ]
     },
     "metadata": {},
     "output_type": "display_data"
    }
   ],
   "source": [
    "# Plot ACF and PACF\n",
    "# Set plotting to two records on one page\n",
    "par(mfrow=c(2,1))\n",
    "\n",
    "# Produce plots\n",
    "acf(diff(data$per_treated[1:25]))\n",
    "acf(diff(data$per_treated[1:25]),type='partial')"
   ]
  },
  {
   "cell_type": "code",
   "execution_count": 461,
   "metadata": {},
   "outputs": [
    {
     "data": {
      "text/plain": [
       "\n",
       "z test of coefficients:\n",
       "\n",
       "    Estimate Std. Error z value  Pr(>|z|)    \n",
       "ma1 -1.00000    0.20252 -4.9378 7.901e-07 ***\n",
       "---\n",
       "Signif. codes:  0 '***' 0.001 '**' 0.01 '*' 0.05 '.' 0.1 ' ' 1\n"
      ]
     },
     "metadata": {},
     "output_type": "display_data"
    },
    {
     "data": {
      "text/html": [
       "47.4515254469381"
      ],
      "text/latex": [
       "47.4515254469381"
      ],
      "text/markdown": [
       "47.4515254469381"
      ],
      "text/plain": [
       "[1] 47.45153"
      ]
     },
     "metadata": {},
     "output_type": "display_data"
    },
    {
     "data": {
      "text/plain": [
       "\n",
       "z test of coefficients:\n",
       "\n",
       "    Estimate Std. Error z value Pr(>|z|)   \n",
       "ar1 -0.48604    0.17266 -2.8151 0.004877 **\n",
       "---\n",
       "Signif. codes:  0 '***' 0.001 '**' 0.01 '*' 0.05 '.' 0.1 ' ' 1\n"
      ]
     },
     "metadata": {},
     "output_type": "display_data"
    },
    {
     "data": {
      "text/html": [
       "54.9965691779092"
      ],
      "text/latex": [
       "54.9965691779092"
      ],
      "text/markdown": [
       "54.9965691779092"
      ],
      "text/plain": [
       "[1] 54.99657"
      ]
     },
     "metadata": {},
     "output_type": "display_data"
    },
    {
     "data": {
      "text/plain": [
       "\n",
       "z test of coefficients:\n",
       "\n",
       "    Estimate Std. Error z value  Pr(>|z|)    \n",
       "ar1 -0.71190    0.17746 -4.0115 6.032e-05 ***\n",
       "ar2 -0.45302    0.17648 -2.5670   0.01026 *  \n",
       "---\n",
       "Signif. codes:  0 '***' 0.001 '**' 0.01 '*' 0.05 '.' 0.1 ' ' 1\n"
      ]
     },
     "metadata": {},
     "output_type": "display_data"
    },
    {
     "data": {
      "text/html": [
       "51.4167483804234"
      ],
      "text/latex": [
       "51.4167483804234"
      ],
      "text/markdown": [
       "51.4167483804234"
      ],
      "text/plain": [
       "[1] 51.41675"
      ]
     },
     "metadata": {},
     "output_type": "display_data"
    },
    {
     "data": {
      "text/plain": [
       "\n",
       "z test of coefficients:\n",
       "\n",
       "     Estimate Std. Error z value  Pr(>|z|)    \n",
       "ar1 -0.044611   0.213347 -0.2091    0.8344    \n",
       "ma1 -0.999999   0.219255 -4.5609 5.094e-06 ***\n",
       "---\n",
       "Signif. codes:  0 '***' 0.001 '**' 0.01 '*' 0.05 '.' 0.1 ' ' 1\n"
      ]
     },
     "metadata": {},
     "output_type": "display_data"
    },
    {
     "data": {
      "text/html": [
       "49.4080467134451"
      ],
      "text/latex": [
       "49.4080467134451"
      ],
      "text/markdown": [
       "49.4080467134451"
      ],
      "text/plain": [
       "[1] 49.40805"
      ]
     },
     "metadata": {},
     "output_type": "display_data"
    }
   ],
   "source": [
    "\n",
    "\n",
    "arima_m1 = arima(ts(data$per_treated[1:25]), order=c(0,1,1))\n",
    "coeftest(arima_m1)\n",
    "AIC(arima_m1)\n",
    "\n",
    "arima_m2 = arima(ts(data$per_treated[1:25]), order=c(1,1,0))\n",
    "coeftest(arima_m2)\n",
    "AIC(arima_m2)\n",
    "\n",
    "arima_m3 = arima(ts(data$per_treated[1:25]), order=c(2,1,0))\n",
    "coeftest(arima_m3)\n",
    "AIC(arima_m3)\n",
    "\n",
    "arima_m4 = arima(ts(data$per_treated[1:25]), order=c(1,1,1))\n",
    "coeftest(arima_m4)\n",
    "AIC(arima_m4)"
   ]
  },
  {
   "cell_type": "code",
   "execution_count": 183,
   "metadata": {
    "collapsed": true
   },
   "outputs": [],
   "source": [
    "plot_diag <- function(model){\n",
    "    par(mfrow=c(2,1))\n",
    "    acf(model$residuals, lag.max=48)\n",
    "    pacf(model$residuals, lag.max=48)\n",
    "    #library(FitAR)\n",
    "    Box.Ljung.Test(model$residuals, lag = 24)\n",
    "    #boxresult=LjungBoxTest(dtoc.m1$residuals,k=2,StartLag=1)\n",
    "    #plot(boxresult[,3],main= \"Ljung-Box Q Test\", ylab= \"P-values\", xlab= \"Lag\")\n",
    "    qqnorm(model$residuals)\n",
    "    qqline(model$residuals)\n",
    "    }"
   ]
  },
  {
   "cell_type": "code",
   "execution_count": 462,
   "metadata": {},
   "outputs": [
    {
     "data": {
      "image/png": "[encoded data removed]",
      "text/plain": [
       "Plot with title \"Series  model$residuals\""
      ]
     },
     "metadata": {},
     "output_type": "display_data"
    },
    {
     "data": {
      "image/png": "[encoded data removed]",
      "text/plain": [
       "Plot with title \"Normal Q-Q Plot\""
      ]
     },
     "metadata": {},
     "output_type": "display_data"
    }
   ],
   "source": [
    "plot_diag(arima_m1)"
   ]
  },
  {
   "cell_type": "code",
   "execution_count": 464,
   "metadata": {},
   "outputs": [],
   "source": [
    "\n",
    "\n",
    "Treat_Rate = ts(data$per_treated)\n",
    "OR_Intervention = ts(data$or)\n",
    "Implementation = ts(data$imp)\n",
    "Imp_Rate = lag(Treat_Rate,1)*data$imp\n",
    "OR_Rate = lag(Treat_Rate, 1)*data$or*(1-data$imp)\n"
   ]
  },
  {
   "cell_type": "code",
   "execution_count": 330,
   "metadata": {},
   "outputs": [
    {
     "data": {
      "text/plain": [
       "Time Series:\n",
       "Start = 0 \n",
       "End = 49 \n",
       "Frequency = 1 \n",
       " [1]  0.000000  0.000000  0.000000  0.000000  0.000000  0.000000  0.000000\n",
       " [8]  0.000000  0.000000  0.000000  0.000000  0.000000  0.000000  0.000000\n",
       "[15]  0.000000  0.000000  0.000000  0.000000  0.000000  0.000000  0.000000\n",
       "[22]  0.000000  0.000000  0.000000 -2.803360 -3.496508 -2.803360 -3.496508\n",
       "[29] -2.803360 -3.496508 -2.803360 -2.803360 -2.580217 -3.091042 -2.580217\n",
       "[36] -3.496508  0.000000  0.000000  0.000000  0.000000  0.000000  0.000000\n",
       "[43]  0.000000  0.000000  0.000000  0.000000  0.000000  0.000000  0.000000\n",
       "[50]  0.000000"
      ]
     },
     "metadata": {},
     "output_type": "display_data"
    }
   ],
   "source": [
    "OR_Rate"
   ]
  },
  {
   "cell_type": "code",
   "execution_count": 465,
   "metadata": {},
   "outputs": [
    {
     "data": {
      "text/plain": [
       "\n",
       "Call:\n",
       "arima(x = Treat_Rate, order = c(0, 1, 1), xreg = data.table(OR_Intervention, \n",
       "    Implementation))\n",
       "\n",
       "Coefficients:\n",
       "          ma1  OR_Intervention  Implementation\n",
       "      -0.7832           0.3029         -0.0050\n",
       "s.e.   0.0861           0.3756          0.3975\n",
       "\n",
       "sigma^2 estimated as 0.345:  log likelihood = -47.48,  aic = 100.95"
      ]
     },
     "metadata": {},
     "output_type": "display_data"
    },
    {
     "data": {
      "text/plain": [
       "\n",
       "z test of coefficients:\n",
       "\n",
       "                  Estimate Std. Error z value Pr(>|z|)    \n",
       "ma1             -0.7832081  0.0861443 -9.0918   <2e-16 ***\n",
       "OR_Intervention  0.3029423  0.3755797  0.8066   0.4199    \n",
       "Implementation  -0.0049576  0.3974770 -0.0125   0.9900    \n",
       "---\n",
       "Signif. codes:  0 '***' 0.001 '**' 0.01 '*' 0.05 '.' 0.1 ' ' 1\n"
      ]
     },
     "metadata": {},
     "output_type": "display_data"
    }
   ],
   "source": [
    "intervention_m1 = arima(Treat_Rate, order=c(0,1,1), \n",
    "                 xreg=data.table(OR_Intervention, Implementation))\n",
    "intervention_m1\n",
    "coeftest(intervention_m1)"
   ]
  },
  {
   "cell_type": "code",
   "execution_count": 535,
   "metadata": {},
   "outputs": [
    {
     "data": {
      "text/plain": [
       "\n",
       "Call:\n",
       "arima(x = Treat_Rate, order = c(0, 1, 1), xreg = data.table(OR_Intervention, \n",
       "    Implementation, Imp_Rate))\n",
       "\n",
       "Coefficients:\n",
       "          ma1  OR_Intervention  Implementation  Imp_Rate\n",
       "      -1.0000           0.4788          3.0213    1.0001\n",
       "s.e.   0.0502           0.1423          0.3567    0.1292\n",
       "\n",
       "sigma^2 estimated as 0.1619:  log likelihood = -28.95,  aic = 65.9"
      ]
     },
     "metadata": {},
     "output_type": "display_data"
    },
    {
     "data": {
      "text/plain": [
       "\n",
       "z test of coefficients:\n",
       "\n",
       "                 Estimate Std. Error  z value  Pr(>|z|)    \n",
       "ma1             -0.999977   0.050208 -19.9167 < 2.2e-16 ***\n",
       "OR_Intervention  0.478813   0.142266   3.3656 0.0007637 ***\n",
       "Implementation   3.021261   0.356691   8.4702 < 2.2e-16 ***\n",
       "Imp_Rate         1.000100   0.129245   7.7380  1.01e-14 ***\n",
       "---\n",
       "Signif. codes:  0 '***' 0.001 '**' 0.01 '*' 0.05 '.' 0.1 ' ' 1\n"
      ]
     },
     "metadata": {},
     "output_type": "display_data"
    }
   ],
   "source": [
    "intervention_m2 = arima(Treat_Rate, order=c(0,1,1), \n",
    "                        \n",
    "                 xreg=data.table(OR_Intervention, Implementation, Imp_Rate))\n",
    "intervention_m2\n",
    "coeftest(intervention_m2)"
   ]
  },
  {
   "cell_type": "code",
   "execution_count": 469,
   "metadata": {},
   "outputs": [
    {
     "data": {
      "image/png": "[encoded data removed]",
      "text/plain": [
       "Plot with title \"p values for Ljung-Box statistic\""
      ]
     },
     "metadata": {},
     "output_type": "display_data"
    }
   ],
   "source": [
    "tsdiag(intervention_m2, tol=.15,gof.lag=24)"
   ]
  }
 ],
 "metadata": {
  "kernelspec": {
   "display_name": "R",
   "language": "R",
   "name": "ir"
  },
  "language_info": {
   "codemirror_mode": "r",
   "file_extension": ".r",
   "mimetype": "text/x-r-source",
   "name": "R",
   "pygments_lexer": "r",
   "version": "3.4.3"
  }
 },
 "nbformat": 4,
 "nbformat_minor": 2
}
